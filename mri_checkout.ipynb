{
 "cells": [
  {
   "cell_type": "code",
   "execution_count": 1,
   "id": "9c2396fa",
   "metadata": {},
   "outputs": [
    {
     "name": "stderr",
     "output_type": "stream",
     "text": [
      "/home/mmkuznecov/miniconda3/envs/ffcv_mri/lib/python3.10/site-packages/tqdm/auto.py:21: TqdmWarning: IProgress not found. Please update jupyter and ipywidgets. See https://ipywidgets.readthedocs.io/en/stable/user_install.html\n",
      "  from .autonotebook import tqdm as notebook_tqdm\n"
     ]
    }
   ],
   "source": [
    "import torch\n",
    "import numpy as np\n",
    "import matplotlib.pyplot as plt\n",
    "import pandas as pd\n",
    "import seaborn as sns\n",
    "from tqdm import tqdm\n",
    "from datasets import load_from_disk\n",
    "from PIL import Image\n",
    "from typing import Dict, List, Tuple\n",
    "\n",
    "from mrl_loader import MRLLoader\n",
    "from linear_metrics import LinearMetricsCalculator, compute_linear_metrics"
   ]
  },
  {
   "cell_type": "code",
   "execution_count": 2,
   "id": "f1eddb71",
   "metadata": {},
   "outputs": [
    {
     "name": "stdout",
     "output_type": "stream",
     "text": [
      "Initializing resnet50 model...\n"
     ]
    },
    {
     "name": "stderr",
     "output_type": "stream",
     "text": [
      "/home/mmkuznecov/miniconda3/envs/ffcv_mri/lib/python3.10/site-packages/torchvision/models/_utils.py:208: UserWarning: The parameter 'pretrained' is deprecated since 0.13 and may be removed in the future, please use 'weights' instead.\n",
      "  warnings.warn(\n",
      "/home/mmkuznecov/miniconda3/envs/ffcv_mri/lib/python3.10/site-packages/torchvision/models/_utils.py:223: UserWarning: Arguments other than a weight enum or `None` for 'weights' are deprecated since 0.13 and may be removed in the future. The current behavior is equivalent to passing `weights=ResNet50_Weights.IMAGENET1K_V1`. You can also use `weights=ResNet50_Weights.DEFAULT` to get the most up-to-date weights.\n",
      "  warnings.warn(msg)\n"
     ]
    },
    {
     "name": "stdout",
     "output_type": "stream",
     "text": [
      "Applying BlurPool...\n",
      "Loading weights from /home/mmkuznecov/SkolCourses/DL/FINAL_PROJECT/MRL/train/logs/98819cd7-62aa-479e-8642-f4333540615e/final_weights.pt...\n",
      "Model weights loaded successfully!\n"
     ]
    },
    {
     "name": "stderr",
     "output_type": "stream",
     "text": [
      "/home/mmkuznecov/SkolCourses/DL/FINAL_PROJECT/MRL/mrl_loader.py:592: FutureWarning: You are using `torch.load` with `weights_only=False` (the current default value), which uses the default pickle module implicitly. It is possible to construct malicious pickle data which will execute arbitrary code during unpickling (See https://github.com/pytorch/pytorch/blob/main/SECURITY.md#untrusted-models for more details). In a future release, the default value for `weights_only` will be flipped to `True`. This limits the functions that could be executed during unpickling. Arbitrary objects will no longer be allowed to be loaded via this mode unless they are explicitly allowlisted by the user via `torch.serialization.add_safe_globals`. We recommend you start setting `weights_only=True` for any use case where you don't have full control of the loaded file. Please open an issue on GitHub for any issues related to this experimental feature.\n",
      "  checkpoint = torch.load(self.weights_path, map_location='cpu')\n"
     ]
    },
    {
     "name": "stdout",
     "output_type": "stream",
     "text": [
      "Model loaded on cuda\n",
      "Available embedding dimensions: [8, 16, 32, 64, 128, 256, 512, 1024, 2048]\n",
      "Output embedding dimension set to 8\n"
     ]
    }
   ],
   "source": [
    "model_path = \"/home/mmkuznecov/SkolCourses/DL/FINAL_PROJECT/MRL/train/logs/98819cd7-62aa-479e-8642-f4333540615e/final_weights.pt\" \n",
    "model = MRLLoader(model_path)"
   ]
  },
  {
   "cell_type": "code",
   "execution_count": 3,
   "id": "9a047cbc",
   "metadata": {},
   "outputs": [
    {
     "data": {
      "text/plain": [
       "<mrl_loader.MRLLoader at 0x7fa7182cd6f0>"
      ]
     },
     "execution_count": 3,
     "metadata": {},
     "output_type": "execute_result"
    }
   ],
   "source": [
    "model"
   ]
  },
  {
   "cell_type": "code",
   "execution_count": 4,
   "id": "6c0a6ed4",
   "metadata": {},
   "outputs": [
    {
     "data": {
      "text/plain": [
       "(torch.Size([4, 1000]), torch.Size([4, 8]))"
      ]
     },
     "execution_count": 4,
     "metadata": {},
     "output_type": "execute_result"
    }
   ],
   "source": [
    "random_input = torch.randn(4, 3, 224, 224)\n",
    "predictions, embeddings = model.predict_with_embeddings(random_input)\n",
    "predictions.shape, embeddings.shape"
   ]
  },
  {
   "cell_type": "code",
   "execution_count": 5,
   "id": "2e943227",
   "metadata": {},
   "outputs": [
    {
     "name": "stdout",
     "output_type": "stream",
     "text": [
      "Output embedding dimension set to 16\n"
     ]
    }
   ],
   "source": [
    "model.set_output_emb_dim(16)"
   ]
  },
  {
   "cell_type": "code",
   "execution_count": 6,
   "id": "97a5d7f9",
   "metadata": {},
   "outputs": [
    {
     "data": {
      "text/plain": [
       "(torch.Size([4, 1000]), torch.Size([4, 16]))"
      ]
     },
     "execution_count": 6,
     "metadata": {},
     "output_type": "execute_result"
    }
   ],
   "source": [
    "predictions, embeddings = model.predict_with_embeddings(random_input)\n",
    "predictions.shape, embeddings.shape"
   ]
  },
  {
   "cell_type": "code",
   "execution_count": 7,
   "id": "8acc5836",
   "metadata": {},
   "outputs": [
    {
     "name": "stdout",
     "output_type": "stream",
     "text": [
      "Loaded dataset with 100000 samples\n"
     ]
    }
   ],
   "source": [
    "dataset_path = \"data/imagenet_1k_resized_256_test\"\n",
    "ds = load_from_disk(dataset_path)\n",
    "print(f\"Loaded dataset with {len(ds)} samples\")"
   ]
  },
  {
   "cell_type": "code",
   "execution_count": 8,
   "id": "f191e16c",
   "metadata": {},
   "outputs": [
    {
     "name": "stdout",
     "output_type": "stream",
     "text": [
      "Sample image shape: (373, 256), Label: -1\n"
     ]
    }
   ],
   "source": [
    "sample = ds[0]\n",
    "print(f\"Sample image shape: {sample['image'].size}, Label: {sample['label']}\")"
   ]
  },
  {
   "cell_type": "code",
   "execution_count": 9,
   "id": "7972d8b3",
   "metadata": {},
   "outputs": [
    {
     "data": {
      "image/png": "[encoded data removed]",
      "text/plain": [
       "<Figure size 500x500 with 1 Axes>"
      ]
     },
     "metadata": {},
     "output_type": "display_data"
    }
   ],
   "source": [
    "plt.figure(figsize=(5, 5))\n",
    "plt.imshow(sample['image'])\n",
    "plt.axis('off')\n",
    "plt.title(\"Sample Image\")\n",
    "plt.show()"
   ]
  },
  {
   "cell_type": "code",
   "execution_count": 10,
   "id": "67f40081",
   "metadata": {},
   "outputs": [],
   "source": [
    "def extract_embeddings(model: MRLLoader, \n",
    "                       dataset, \n",
    "                       embedding_dim: int, \n",
    "                       batch_size: int = 32, \n",
    "                       num_samples: int = None,\n",
    "                       random_seed: int = 42) -> np.ndarray:\n",
    "    \"\"\"\n",
    "    Extract embeddings from the model for images in the dataset.\n",
    "    \n",
    "    Args:\n",
    "        model: MRLLoader model\n",
    "        dataset: HuggingFace dataset\n",
    "        embedding_dim: Embedding dimension to use\n",
    "        batch_size: Batch size for processing\n",
    "        num_samples: Number of samples to process (None = all)\n",
    "        random_seed: Random seed for sampling\n",
    "        \n",
    "    Returns:\n",
    "        Array of embeddings with shape (num_samples, embedding_dim)\n",
    "    \"\"\"\n",
    "    # Set the embedding dimension\n",
    "    model.set_output_emb_dim(embedding_dim)\n",
    "    \n",
    "    # Determine number of samples to process\n",
    "    if num_samples is None or num_samples > len(dataset):\n",
    "        num_samples = len(dataset)\n",
    "    \n",
    "    # Set random seed for reproducibility\n",
    "    np.random.seed(random_seed)\n",
    "    \n",
    "    # If we're not using all samples, randomly select indices\n",
    "    if num_samples < len(dataset):\n",
    "        indices = np.random.choice(len(dataset), num_samples, replace=False)\n",
    "    else:\n",
    "        indices = range(num_samples)\n",
    "    \n",
    "    # Initialize array to store embeddings\n",
    "    all_embeddings = []\n",
    "    all_labels = []\n",
    "    \n",
    "    # Process in batches\n",
    "    for i in tqdm(range(0, len(indices), batch_size), desc=f\"Extracting {embedding_dim}d embeddings\"):\n",
    "        batch_indices = indices[i:i+batch_size]\n",
    "        batch_images = []\n",
    "        batch_labels = []\n",
    "        \n",
    "        # Process each image in the batch\n",
    "        for idx in batch_indices:\n",
    "            sample = dataset[idx]\n",
    "            image = sample['image']\n",
    "            label = sample['label']\n",
    "            \n",
    "            batch_images.append(image)\n",
    "            batch_labels.append(label)\n",
    "        \n",
    "        # Get embeddings for the batch\n",
    "        with torch.no_grad():\n",
    "            _, embeddings = model.predict_with_embeddings(batch_images)\n",
    "            all_embeddings.append(embeddings.cpu().numpy())\n",
    "            all_labels.extend(batch_labels)\n",
    "    \n",
    "    # Concatenate all batches\n",
    "    embeddings_array = np.vstack(all_embeddings)\n",
    "    labels_array = np.array(all_labels)\n",
    "    \n",
    "    print(f\"Extracted {embeddings_array.shape[0]} embeddings with dimension {embeddings_array.shape[1]}\")\n",
    "    return embeddings_array, labels_array"
   ]
  },
  {
   "cell_type": "code",
   "execution_count": 11,
   "id": "6438e0d1",
   "metadata": {},
   "outputs": [],
   "source": [
    "# embedding_dims = [8, 16, 32, 64, 128, 256, 512, 1024, 2048]\n",
    "embedding_dims = [8, 16]"
   ]
  },
  {
   "cell_type": "code",
   "execution_count": 12,
   "id": "57dfcda4",
   "metadata": {},
   "outputs": [],
   "source": [
    "num_samples = len(ds)"
   ]
  },
  {
   "cell_type": "code",
   "execution_count": 13,
   "id": "aee7872e",
   "metadata": {},
   "outputs": [
    {
     "name": "stdout",
     "output_type": "stream",
     "text": [
      "Output embedding dimension set to 8\n"
     ]
    },
    {
     "name": "stderr",
     "output_type": "stream",
     "text": [
      "Extracting 8d embeddings: 100%|██████████| 1563/1563 [05:13<00:00,  4.98it/s]\n"
     ]
    },
    {
     "name": "stdout",
     "output_type": "stream",
     "text": [
      "Extracted 100000 embeddings with dimension 8\n",
      "Embeddings for dimension 8: (100000, 8)\n",
      "Output embedding dimension set to 16\n"
     ]
    },
    {
     "name": "stderr",
     "output_type": "stream",
     "text": [
      "Extracting 16d embeddings: 100%|██████████| 1563/1563 [05:11<00:00,  5.02it/s]"
     ]
    },
    {
     "name": "stdout",
     "output_type": "stream",
     "text": [
      "Extracted 100000 embeddings with dimension 16\n",
      "Embeddings for dimension 16: (100000, 16)\n"
     ]
    },
    {
     "name": "stderr",
     "output_type": "stream",
     "text": [
      "\n"
     ]
    }
   ],
   "source": [
    "embeddings_dict = {}\n",
    "labels = None\n",
    "\n",
    "for dim in embedding_dims:\n",
    "    embeddings_array, labels_array = extract_embeddings(\n",
    "        model=model,\n",
    "        dataset=ds,\n",
    "        embedding_dim=dim,\n",
    "        batch_size=64,\n",
    "        num_samples=num_samples\n",
    "    )\n",
    "    embeddings_dict[dim] = embeddings_array\n",
    "    \n",
    "    # Store labels once (they should be the same for all dimensions)\n",
    "    if labels is None:\n",
    "        labels = labels_array\n",
    "    \n",
    "    print(f\"Embeddings for dimension {dim}: {embeddings_array.shape}\")"
   ]
  },
  {
   "cell_type": "code",
   "execution_count": 14,
   "id": "505fe9f7",
   "metadata": {},
   "outputs": [
    {
     "name": "stdout",
     "output_type": "stream",
     "text": [
      "Computing metrics for 8d embeddings...\n",
      "  Effective Rank: 6.55\n",
      "  Condition Number: 4.52\n",
      "  Explained Variance (top 10): 1.0000\n",
      "  Average Correlation: 0.1495\n",
      "\n",
      "Computing metrics for 16d embeddings...\n",
      "  Effective Rank: 11.88\n",
      "  Condition Number: 7.86\n",
      "  Explained Variance (top 10): 0.9410\n",
      "  Average Correlation: 0.0946\n",
      "\n"
     ]
    },
    {
     "name": "stderr",
     "output_type": "stream",
     "text": [
      "/home/mmkuznecov/miniconda3/envs/ffcv_mri/lib/python3.10/site-packages/numpy/lib/_function_base_impl.py:2922: RuntimeWarning: invalid value encountered in divide\n",
      "  c /= stddev[:, None]\n",
      "/home/mmkuznecov/miniconda3/envs/ffcv_mri/lib/python3.10/site-packages/numpy/lib/_function_base_impl.py:2923: RuntimeWarning: invalid value encountered in divide\n",
      "  c /= stddev[None, :]\n"
     ]
    }
   ],
   "source": [
    "metrics_calculator = LinearMetricsCalculator()\n",
    "\n",
    "# Dictionary to store metrics for each dimension\n",
    "metrics_results = {}\n",
    "\n",
    "# Calculate metrics for each embedding dimension\n",
    "for dim, embeddings in embeddings_dict.items():\n",
    "    print(f\"Computing metrics for {dim}d embeddings...\")\n",
    "    metrics = metrics_calculator.compute_metrics(embeddings, cache_key=f\"dim_{dim}\")\n",
    "    metrics_results[dim] = metrics\n",
    "    \n",
    "    # Print key metrics\n",
    "    print(f\"  Effective Rank: {metrics['effective_rank']:.2f}\")\n",
    "    print(f\"  Condition Number: {metrics['condition_number']:.2f}\")\n",
    "    print(f\"  Explained Variance (top 10): {metrics['explained_variance_top10']:.4f}\")\n",
    "    print(f\"  Average Correlation: {metrics['avg_correlation']:.4f}\")\n",
    "    print()"
   ]
  },
  {
   "cell_type": "code",
   "execution_count": null,
   "id": "99657d4c",
   "metadata": {},
   "outputs": [],
   "source": []
  }
 ],
 "metadata": {
  "kernelspec": {
   "display_name": "ffcv_mri",
   "language": "python",
   "name": "python3"
  },
  "language_info": {
   "codemirror_mode": {
    "name": "ipython",
    "version": 3
   },
   "file_extension": ".py",
   "mimetype": "text/x-python",
   "name": "python",
   "nbconvert_exporter": "python",
   "pygments_lexer": "ipython3",
   "version": "3.10.15"
  }
 },
 "nbformat": 4,
 "nbformat_minor": 5
}
