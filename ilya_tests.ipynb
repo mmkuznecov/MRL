{
 "cells": [
  {
   "cell_type": "code",
   "execution_count": 2,
   "id": "8bebee5e",
   "metadata": {},
   "outputs": [],
   "source": [
    "import torch\n",
    "import torch.nn as nn\n",
    "import torch.nn.functional as F\n",
    "from torchvision import models\n",
    "import numpy as np"
   ]
  },
  {
   "cell_type": "code",
   "execution_count": 3,
   "id": "55d8f521",
   "metadata": {},
   "outputs": [],
   "source": [
    "nesting_start = 3\n",
    "efficient = True\n",
    "nesting_list = [2**i for i in range(nesting_start, 12)] # 8, 16, 32, 64, 128, 256, 512, 1024, 2048\n",
    "num_classes = 10 # mnist = 10\n",
    "model_path = \"/home/iliam/dl-project/model/final_weights.pt\"  # Update with your actual path"
   ]
  },
  {
   "cell_type": "markdown",
   "id": "445c2056",
   "metadata": {},
   "source": [
    "## Loading and checkind datasets"
   ]
  },
  {
   "cell_type": "code",
   "execution_count": 4,
   "id": "0d14ef00",
   "metadata": {},
   "outputs": [],
   "source": [
    "import torchvision\n",
    "mnist_test = torchvision.datasets.MNIST('./mnist', download=True, train=False, transform=torchvision.transforms.ToTensor())\n",
    "cifar10_test = torchvision.datasets.CIFAR10('./cifar10', download=True, train=False, transform=torchvision.transforms.ToTensor())"
   ]
  },
  {
   "cell_type": "code",
   "execution_count": 5,
   "id": "5e042d18",
   "metadata": {},
   "outputs": [
    {
     "name": "stdout",
     "output_type": "stream",
     "text": [
      "10000\n",
      "7\n"
     ]
    },
    {
     "data": {
      "text/plain": [
       "torch.Size([1, 28, 28])"
      ]
     },
     "execution_count": 5,
     "metadata": {},
     "output_type": "execute_result"
    }
   ],
   "source": [
    "print(len(mnist_test))\n",
    "input_image, target_class = mnist_test[0]\n",
    "print(target_class)\n",
    "input_image.shape"
   ]
  },
  {
   "cell_type": "code",
   "execution_count": 6,
   "id": "13d923e7",
   "metadata": {},
   "outputs": [
    {
     "name": "stdout",
     "output_type": "stream",
     "text": [
      "10000\n",
      "7\n"
     ]
    },
    {
     "data": {
      "text/plain": [
       "torch.Size([3, 32, 32])"
      ]
     },
     "execution_count": 6,
     "metadata": {},
     "output_type": "execute_result"
    }
   ],
   "source": [
    "print(len(cifar10_test))\n",
    "input_image, target_clasee = cifar10_test[0]\n",
    "print(target_class)\n",
    "input_image.shape"
   ]
  },
  {
   "cell_type": "markdown",
   "id": "cfa23457",
   "metadata": {},
   "source": [
    "# Applying model + MRL to dataset"
   ]
  },
  {
   "cell_type": "code",
   "execution_count": 7,
   "id": "6562c866",
   "metadata": {},
   "outputs": [
    {
     "name": "stderr",
     "output_type": "stream",
     "text": [
      "/home/iliam/MRL-env/lib/python3.12/site-packages/tqdm/auto.py:21: TqdmWarning: IProgress not found. Please update jupyter and ipywidgets. See https://ipywidgets.readthedocs.io/en/stable/user_install.html\n",
      "  from .autonotebook import tqdm as notebook_tqdm\n"
     ]
    },
    {
     "name": "stdout",
     "output_type": "stream",
     "text": [
      "Initializing resnet50 model...\n"
     ]
    },
    {
     "name": "stderr",
     "output_type": "stream",
     "text": [
      "/home/iliam/MRL-env/lib/python3.12/site-packages/torchvision/models/_utils.py:208: UserWarning: The parameter 'pretrained' is deprecated since 0.13 and may be removed in the future, please use 'weights' instead.\n",
      "  warnings.warn(\n",
      "/home/iliam/MRL-env/lib/python3.12/site-packages/torchvision/models/_utils.py:223: UserWarning: Arguments other than a weight enum or `None` for 'weights' are deprecated since 0.13 and may be removed in the future. The current behavior is equivalent to passing `weights=ResNet50_Weights.IMAGENET1K_V1`. You can also use `weights=ResNet50_Weights.DEFAULT` to get the most up-to-date weights.\n",
      "  warnings.warn(msg)\n"
     ]
    },
    {
     "name": "stdout",
     "output_type": "stream",
     "text": [
      "Applying BlurPool...\n",
      "Loading weights from /home/iliam/dl-project/model/final_weights.pt...\n",
      "Error loading weights: Error(s) in loading state_dict for ResNet:\n",
      "\tsize mismatch for fc.nesting_classifier_0.weight: copying a param with shape torch.Size([1000, 2048]) from checkpoint, the shape in current model is torch.Size([10, 2048]).\n",
      "\tsize mismatch for fc.nesting_classifier_0.bias: copying a param with shape torch.Size([1000]) from checkpoint, the shape in current model is torch.Size([10]).\n",
      "Continuing with pretrained weights only.\n",
      "Model loaded on cuda\n",
      "Available embedding dimensions: [8, 16, 32, 64, 128, 256, 512, 1024, 2048]\n",
      "Output embedding dimension set to 8\n"
     ]
    }
   ],
   "source": [
    "import torch\n",
    "import torch.nn as nn\n",
    "import torch.nn.functional as F\n",
    "from torchvision import models, transforms\n",
    "import numpy as np\n",
    "from tqdm import tqdm\n",
    "from datasets import load_from_disk, Dataset\n",
    "from PIL import Image\n",
    "from mrl_loader import MRLLoader\n",
    "\n",
    "model = MRLLoader(weights_path=model_path, num_classes=10)"
   ]
  },
  {
   "cell_type": "markdown",
   "id": "0f350093",
   "metadata": {},
   "source": [
    "## Working with MNIST"
   ]
  },
  {
   "cell_type": "code",
   "execution_count": 8,
   "id": "22a60246",
   "metadata": {},
   "outputs": [],
   "source": [
    "def mnist_to_tensors(mnist_dataset):\n",
    "    # Get all images and labels\n",
    "    images = torch.stack([img for img, _ in mnist_dataset])\n",
    "    labels = torch.tensor([label for _, label in mnist_dataset])\n",
    "    \n",
    "    # Add channel dimension if needed (MNIST usually has shape [N, H, W])\n",
    "    if images.ndim == 3:\n",
    "        images = images.unsqueeze(1)  # [N, 1, H, W]\n",
    "    \n",
    "    # Convert to 3-channel\n",
    "    images = images.repeat(1, 3, 1, 1)\n",
    "    \n",
    "    return images, labels\n",
    "\n",
    "mnist_images, mnist_labels = mnist_to_tensors(mnist_test)"
   ]
  },
  {
   "cell_type": "code",
   "execution_count": 9,
   "id": "aebb7c35",
   "metadata": {},
   "outputs": [
    {
     "name": "stdout",
     "output_type": "stream",
     "text": [
      "tensor([7, 2, 1,  ..., 4, 5, 6])\n"
     ]
    }
   ],
   "source": [
    "print(mnist_labels)"
   ]
  },
  {
   "cell_type": "code",
   "execution_count": 10,
   "id": "f565c413",
   "metadata": {},
   "outputs": [
    {
     "name": "stdout",
     "output_type": "stream",
     "text": [
      "Embedding dim 8: torch.Size([10000, 8])\n",
      "Embedding dim 16: torch.Size([10000, 16])\n",
      "Embedding dim 32: torch.Size([10000, 32])\n",
      "Embedding dim 64: torch.Size([10000, 64])\n",
      "Embedding dim 128: torch.Size([10000, 128])\n",
      "Embedding dim 256: torch.Size([10000, 256])\n",
      "Embedding dim 512: torch.Size([10000, 512])\n",
      "Embedding dim 1024: torch.Size([10000, 1024])\n",
      "Embedding dim 2048: torch.Size([10000, 2048])\n"
     ]
    }
   ],
   "source": [
    "mnist_embeds = model.extract_all_embeddings(mnist_images)\n",
    "for dim, emb in mnist_embeds.items():\n",
    "    print(f\"Embedding dim {dim}: {emb.shape}\")"
   ]
  },
  {
   "cell_type": "code",
   "execution_count": 36,
   "id": "7bfb8843",
   "metadata": {},
   "outputs": [],
   "source": [
    "from sklearn.linear_model import LogisticRegression\n",
    "from sklearn.model_selection import train_test_split\n",
    "from sklearn.metrics import accuracy_score\n",
    "import numpy as np\n",
    "\n",
    "def train_evaluate_logreg(embeddings_dict, labels, test_size=0.2, random_state=42):\n",
    "    \"\"\"\n",
    "    Train and evaluate logistic regression classifiers for each embedding dimension.\n",
    "    \n",
    "    Args:\n",
    "        embeddings_dict: Dictionary {dim: embeddings_tensor} where tensors are on CUDA\n",
    "        labels: Tensor of corresponding labels\n",
    "        test_size: Fraction of data to use for validation\n",
    "        random_state: Random seed for reproducibility\n",
    "        \n",
    "    Returns:\n",
    "        Dictionary of {dim: accuracy_score} for each dimension\n",
    "    \"\"\"\n",
    "    # Convert labels to numpy (move to CPU if needed)\n",
    "    labels_np = labels.cpu().numpy() if labels.is_cuda else labels.numpy()\n",
    "    \n",
    "    results = {}\n",
    "    \n",
    "    for dim, embeddings in embeddings_dict.items():\n",
    "        # Convert embeddings to numpy (move to CPU if needed)\n",
    "        emb_np = embeddings.cpu().numpy() if embeddings.is_cuda else embeddings.numpy()\n",
    "        \n",
    "        # Split into train/test\n",
    "        X_train, X_test, y_train, y_test = train_test_split(\n",
    "            emb_np, labels_np, \n",
    "            test_size=test_size, \n",
    "            random_state=random_state,\n",
    "            stratify=labels_np  # Preserve class distribution\n",
    "        )\n",
    "        \n",
    "        # Train logistic regression\n",
    "        logreg = LogisticRegression(\n",
    "            max_iter=1000,  # Increased for convergence\n",
    "            solver='lbfgs',  # Good for multiclass\n",
    "            random_state=random_state\n",
    "        )\n",
    "        logreg.fit(X_train, y_train)\n",
    "        \n",
    "        # Evaluate\n",
    "        y_pred = logreg.predict(X_test)\n",
    "        accuracy = accuracy_score(y_test, y_pred)\n",
    "        \n",
    "        results[dim] = accuracy\n",
    "        \n",
    "        print(f\"Dimension {dim}: Test Accuracy = {accuracy:.4f}\")\n",
    "    \n",
    "    return results"
   ]
  },
  {
   "cell_type": "code",
   "execution_count": 37,
   "id": "fdd7222b",
   "metadata": {},
   "outputs": [
    {
     "name": "stdout",
     "output_type": "stream",
     "text": [
      "Dimension 8: Test Accuracy = 0.1465\n",
      "Dimension 16: Test Accuracy = 0.1690\n",
      "Dimension 32: Test Accuracy = 0.2580\n",
      "Dimension 64: Test Accuracy = 0.6055\n",
      "Dimension 128: Test Accuracy = 0.8050\n",
      "Dimension 256: Test Accuracy = 0.8705\n",
      "Dimension 512: Test Accuracy = 0.9180\n",
      "Dimension 1024: Test Accuracy = 0.9380\n",
      "Dimension 2048: Test Accuracy = 0.9400\n"
     ]
    }
   ],
   "source": [
    "results = train_evaluate_logreg(mnist_embeds, mnist_labels, test_size=0.2, random_state=42)"
   ]
  },
  {
   "cell_type": "code",
   "execution_count": 22,
   "id": "51028fb7",
   "metadata": {},
   "outputs": [],
   "source": [
    "from sklearn import svm\n",
    "from sklearn.neighbors import KNeighborsClassifier\n",
    "\n",
    "def train_evaluate_knn(embeddings_dict, labels, n_neighbors=5, test_size=0.2, random_state=42):\n",
    "\n",
    "    # Convert labels to numpy (move to CPU if needed)\n",
    "    labels_np = labels.cpu().numpy() if labels.is_cuda else labels.numpy()\n",
    "    \n",
    "    results = {}\n",
    "    \n",
    "    for dim, embeddings in embeddings_dict.items():\n",
    "        # Convert embeddings to numpy (move to CPU if needed)\n",
    "        emb_np = embeddings.cpu().numpy() if embeddings.is_cuda else embeddings.numpy()\n",
    "        \n",
    "        # Split into train/test\n",
    "        X_train, X_test, y_train, y_test = train_test_split(\n",
    "            emb_np, labels_np, \n",
    "            test_size=test_size, \n",
    "            random_state=random_state,\n",
    "            stratify=labels_np  # Preserve class distribution\n",
    "        )\n",
    "        \n",
    "        # Train logistic regression\n",
    "        clf = KNeighborsClassifier(n_neighbors=n_neighbors)\n",
    "        clf.fit(X_train, y_train)\n",
    "        \n",
    "        # Evaluate\n",
    "        y_pred = clf.predict(X_test)\n",
    "        accuracy = accuracy_score(y_test, y_pred)\n",
    "        \n",
    "        results[dim] = accuracy\n",
    "        \n",
    "        print(f\"Dimension {dim}: Test Accuracy = {accuracy:.4f}\")\n",
    "    \n",
    "    return results\n",
    "\n",
    "def train_evaluate_svm(embeddings_dict, labels, test_size=0.2, random_state=42):\n",
    "\n",
    "    # Convert labels to numpy (move to CPU if needed)\n",
    "    labels_np = labels.cpu().numpy() if labels.is_cuda else labels.numpy()\n",
    "    \n",
    "    results = {}\n",
    "    \n",
    "    for dim, embeddings in embeddings_dict.items():\n",
    "        # Convert embeddings to numpy (move to CPU if needed)\n",
    "        emb_np = embeddings.cpu().numpy() if embeddings.is_cuda else embeddings.numpy()\n",
    "        \n",
    "        # Split into train/test\n",
    "        X_train, X_test, y_train, y_test = train_test_split(\n",
    "            emb_np, labels_np, \n",
    "            test_size=test_size, \n",
    "            random_state=random_state,\n",
    "            stratify=labels_np  # Preserve class distribution\n",
    "        )\n",
    "        \n",
    "        # Train logistic regression\n",
    "        clf = svm.SVC()\n",
    "        clf.fit(X_train, y_train)\n",
    "        \n",
    "        # Evaluate\n",
    "        y_pred = clf.predict(X_test)\n",
    "        accuracy = accuracy_score(y_test, y_pred)\n",
    "        \n",
    "        results[dim] = accuracy\n",
    "        \n",
    "        print(f\"Dimension {dim}: Test Accuracy = {accuracy:.4f}\")\n",
    "    \n",
    "    return results"
   ]
  },
  {
   "cell_type": "code",
   "execution_count": 20,
   "id": "9496832e",
   "metadata": {},
   "outputs": [
    {
     "name": "stdout",
     "output_type": "stream",
     "text": [
      "Dimension 8: Test Accuracy = 0.1410\n",
      "Dimension 16: Test Accuracy = 0.1575\n",
      "Dimension 32: Test Accuracy = 0.2590\n",
      "Dimension 64: Test Accuracy = 0.6135\n",
      "Dimension 128: Test Accuracy = 0.8195\n",
      "Dimension 256: Test Accuracy = 0.8710\n",
      "Dimension 512: Test Accuracy = 0.8990\n",
      "Dimension 1024: Test Accuracy = 0.9115\n",
      "Dimension 2048: Test Accuracy = 0.9185\n"
     ]
    }
   ],
   "source": [
    "mnist_results_svm = train_evaluate_svm(mnist_embeds, mnist_labels, test_size=0.2, random_state=42)"
   ]
  },
  {
   "cell_type": "code",
   "execution_count": 27,
   "id": "662e3f7b",
   "metadata": {},
   "outputs": [
    {
     "name": "stdout",
     "output_type": "stream",
     "text": [
      "Dimension 8: Test Accuracy = 0.1285\n",
      "Dimension 16: Test Accuracy = 0.1365\n",
      "Dimension 32: Test Accuracy = 0.1990\n",
      "Dimension 64: Test Accuracy = 0.5755\n",
      "Dimension 128: Test Accuracy = 0.7680\n",
      "Dimension 256: Test Accuracy = 0.8200\n",
      "Dimension 512: Test Accuracy = 0.8420\n",
      "Dimension 1024: Test Accuracy = 0.8580\n",
      "Dimension 2048: Test Accuracy = 0.8660\n"
     ]
    }
   ],
   "source": [
    "mnist_results_knn = train_evaluate_knn(mnist_embeds, mnist_labels, n_neighbors=5, test_size=0.2, random_state=42)"
   ]
  },
  {
   "cell_type": "code",
   "execution_count": 46,
   "id": "62a5929d",
   "metadata": {},
   "outputs": [
    {
     "data": {
      "image/png": "[encoded data removed]",
      "text/plain": [
       "<Figure size 640x480 with 1 Axes>"
      ]
     },
     "metadata": {},
     "output_type": "display_data"
    }
   ],
   "source": [
    "from matplotlib import pyplot as plt\n",
    "dims = list(results.keys())\n",
    "y_logreg = results.values()\n",
    "y_svm = mnist_results_svm.values()\n",
    "y_knn = mnist_results_knn.values()\n",
    "\n",
    "plt.plot(dims, y_logreg, 'o-', label='Logistic Regression')\n",
    "plt.plot(dims, y_svm, 'o-', label='SVM')\n",
    "plt.plot(dims, y_knn, 'o-', label='5 Nearest Neighbors')\n",
    "plt.title('Classifiers on MNIST embeddings', fontsize=16)\n",
    "plt.ylabel('Accuracy', fontsize=14)\n",
    "plt.xlabel('Dimension', fontsize=14)\n",
    "plt.xscale('log')\n",
    "plt.xticks(dims, labels=dims)\n",
    "plt.grid()\n",
    "plt.legend(loc='best', fontsize=14)\n",
    "plt.savefig(\"mnist.png\", dpi=300, bbox_inches='tight')\n",
    "plt.show()\n"
   ]
  },
  {
   "cell_type": "markdown",
   "id": "db69d414",
   "metadata": {},
   "source": [
    "## Working with cifar10"
   ]
  },
  {
   "cell_type": "code",
   "execution_count": 15,
   "id": "6dbcc8de",
   "metadata": {},
   "outputs": [],
   "source": [
    "def cifar10_to_tensors(cifar10_dataset):\n",
    "    # Get all images and labels\n",
    "    images = torch.stack([img for img, _ in cifar10_dataset])\n",
    "    labels = torch.tensor([label for _, label in cifar10_dataset])\n",
    "    \n",
    "    return images, labels\n",
    "\n",
    "cifar10_images, cifar10_labels = cifar10_to_tensors(cifar10_test)"
   ]
  },
  {
   "cell_type": "code",
   "execution_count": 16,
   "id": "64dbecd5",
   "metadata": {},
   "outputs": [
    {
     "name": "stdout",
     "output_type": "stream",
     "text": [
      "torch.Size([10000, 3, 32, 32])\n"
     ]
    }
   ],
   "source": [
    "print(cifar10_images.shape)"
   ]
  },
  {
   "cell_type": "code",
   "execution_count": 17,
   "id": "cc75cd47",
   "metadata": {},
   "outputs": [
    {
     "name": "stdout",
     "output_type": "stream",
     "text": [
      "Embedding dim 8: torch.Size([10000, 8])\n",
      "Embedding dim 16: torch.Size([10000, 16])\n",
      "Embedding dim 32: torch.Size([10000, 32])\n",
      "Embedding dim 64: torch.Size([10000, 64])\n",
      "Embedding dim 128: torch.Size([10000, 128])\n",
      "Embedding dim 256: torch.Size([10000, 256])\n",
      "Embedding dim 512: torch.Size([10000, 512])\n",
      "Embedding dim 1024: torch.Size([10000, 1024])\n",
      "Embedding dim 2048: torch.Size([10000, 2048])\n"
     ]
    }
   ],
   "source": [
    "cifar10_embeds = model.extract_all_embeddings(cifar10_images)\n",
    "for dim, emb in cifar10_embeds.items():\n",
    "    print(f\"Embedding dim {dim}: {emb.shape}\")"
   ]
  },
  {
   "cell_type": "code",
   "execution_count": 48,
   "id": "d5538d35",
   "metadata": {},
   "outputs": [
    {
     "name": "stdout",
     "output_type": "stream",
     "text": [
      "Dimension 8: Test Accuracy = 0.1050\n",
      "Dimension 16: Test Accuracy = 0.1150\n",
      "Dimension 32: Test Accuracy = 0.1355\n",
      "Dimension 64: Test Accuracy = 0.2405\n",
      "Dimension 128: Test Accuracy = 0.3735\n",
      "Dimension 256: Test Accuracy = 0.4430\n",
      "Dimension 512: Test Accuracy = 0.4765\n",
      "Dimension 1024: Test Accuracy = 0.4770\n",
      "Dimension 2048: Test Accuracy = 0.4850\n"
     ]
    }
   ],
   "source": [
    "cifar10_results = train_evaluate_logreg(cifar10_embeds, cifar10_labels, test_size=0.2, random_state=42)"
   ]
  },
  {
   "cell_type": "code",
   "execution_count": 28,
   "id": "21438da3",
   "metadata": {},
   "outputs": [
    {
     "name": "stdout",
     "output_type": "stream",
     "text": [
      "Dimension 8: Test Accuracy = 0.1005\n",
      "Dimension 16: Test Accuracy = 0.1065\n",
      "Dimension 32: Test Accuracy = 0.1310\n",
      "Dimension 64: Test Accuracy = 0.2485\n",
      "Dimension 128: Test Accuracy = 0.3845\n",
      "Dimension 256: Test Accuracy = 0.4650\n",
      "Dimension 512: Test Accuracy = 0.5010\n",
      "Dimension 1024: Test Accuracy = 0.5290\n",
      "Dimension 2048: Test Accuracy = 0.5535\n"
     ]
    }
   ],
   "source": [
    "cifar10_results_svm = train_evaluate_svm(cifar10_embeds, cifar10_labels, test_size=0.2, random_state=42)"
   ]
  },
  {
   "cell_type": "code",
   "execution_count": 29,
   "id": "9557dd9d",
   "metadata": {},
   "outputs": [
    {
     "name": "stdout",
     "output_type": "stream",
     "text": [
      "Dimension 8: Test Accuracy = 0.1030\n",
      "Dimension 16: Test Accuracy = 0.1075\n",
      "Dimension 32: Test Accuracy = 0.1195\n",
      "Dimension 64: Test Accuracy = 0.1880\n",
      "Dimension 128: Test Accuracy = 0.2730\n",
      "Dimension 256: Test Accuracy = 0.3370\n",
      "Dimension 512: Test Accuracy = 0.3810\n",
      "Dimension 1024: Test Accuracy = 0.3915\n",
      "Dimension 2048: Test Accuracy = 0.3995\n"
     ]
    }
   ],
   "source": [
    "cifar10_results_knn = train_evaluate_knn(cifar10_embeds, cifar10_labels, n_neighbors=5, test_size=0.2, random_state=42)"
   ]
  },
  {
   "cell_type": "code",
   "execution_count": 49,
   "id": "98bc4851",
   "metadata": {},
   "outputs": [
    {
     "data": {
      "image/png": "[encoded data removed]",
      "text/plain": [
       "<Figure size 640x480 with 1 Axes>"
      ]
     },
     "metadata": {},
     "output_type": "display_data"
    }
   ],
   "source": [
    "dims = list(results.keys())\n",
    "y_logreg = cifar10_results.values()\n",
    "y_svm = cifar10_results_svm.values()\n",
    "y_knn = cifar10_results_knn.values()\n",
    "\n",
    "plt.plot(dims, y_logreg, 'o-', label='Logistic Regression')\n",
    "plt.plot(dims, y_svm, 'o-', label='SVM')\n",
    "plt.plot(dims, y_knn, 'o-', label='5 Nearest Neighbors')\n",
    "plt.title('Classifiers on CIFAR10 embeddings', fontsize=16)\n",
    "plt.ylabel('Accuracy', fontsize=14)\n",
    "plt.xlabel('Dimension', fontsize=14)\n",
    "plt.xscale('log')\n",
    "plt.xticks(dims, labels=dims)\n",
    "plt.grid()\n",
    "plt.legend(loc='best', fontsize=14)\n",
    "plt.savefig(\"cifar10.png\", dpi=300, bbox_inches='tight')\n",
    "plt.show()"
   ]
  },
  {
   "cell_type": "markdown",
   "id": "8fb18932",
   "metadata": {},
   "source": [
    "## Working with CelebFaces"
   ]
  },
  {
   "cell_type": "code",
   "execution_count": 50,
   "id": "28186ad0",
   "metadata": {},
   "outputs": [
    {
     "name": "stdout",
     "output_type": "stream",
     "text": [
      "Initializing resnet50 model...\n"
     ]
    },
    {
     "name": "stderr",
     "output_type": "stream",
     "text": [
      "/home/iliam/MRL-env/lib/python3.12/site-packages/torchvision/models/_utils.py:208: UserWarning: The parameter 'pretrained' is deprecated since 0.13 and may be removed in the future, please use 'weights' instead.\n",
      "  warnings.warn(\n",
      "/home/iliam/MRL-env/lib/python3.12/site-packages/torchvision/models/_utils.py:223: UserWarning: Arguments other than a weight enum or `None` for 'weights' are deprecated since 0.13 and may be removed in the future. The current behavior is equivalent to passing `weights=ResNet50_Weights.IMAGENET1K_V1`. You can also use `weights=ResNet50_Weights.DEFAULT` to get the most up-to-date weights.\n",
      "  warnings.warn(msg)\n"
     ]
    },
    {
     "name": "stdout",
     "output_type": "stream",
     "text": [
      "Applying BlurPool...\n",
      "Loading weights from /home/iliam/dl-project/model/final_weights.pt...\n",
      "Error loading weights: Error(s) in loading state_dict for ResNet:\n",
      "\tsize mismatch for fc.nesting_classifier_0.weight: copying a param with shape torch.Size([1000, 2048]) from checkpoint, the shape in current model is torch.Size([2, 2048]).\n",
      "\tsize mismatch for fc.nesting_classifier_0.bias: copying a param with shape torch.Size([1000]) from checkpoint, the shape in current model is torch.Size([2]).\n",
      "Continuing with pretrained weights only.\n",
      "Model loaded on cuda\n",
      "Available embedding dimensions: [8, 16, 32, 64, 128, 256, 512, 1024, 2048]\n",
      "Output embedding dimension set to 8\n"
     ]
    }
   ],
   "source": [
    "import os\n",
    "import pandas as pd\n",
    "import torch\n",
    "from torch.utils.data import Dataset\n",
    "from PIL import Image\n",
    "from torchvision import transforms\n",
    "\n",
    "class CelebAAttributesDataset(Dataset):\n",
    "    def __init__(self, img_dir, attr_path, image_size=224):\n",
    "        \"\"\"\n",
    "        Args:\n",
    "            img_dir: Directory with all the images\n",
    "            attr_path: Path to list_attr_celeba.csv\n",
    "            image_size: Target image size\n",
    "        \"\"\"\n",
    "        self.img_dir = img_dir\n",
    "        self.image_files = sorted(os.listdir(img_dir))\n",
    "        \n",
    "        # Load and preprocess attributes\n",
    "        self.attributes = pd.read_csv(attr_path)\n",
    "        self.attributes.replace(-1, 0, inplace=True)  # Replace -1 with 0\n",
    "        self.attr_names = self.attributes.columns[1:]  # Skip image_id column\n",
    "        \n",
    "        # Image transformations\n",
    "        self.transform = transforms.Compose([\n",
    "            transforms.CenterCrop(178),  # Original celebA is 218x178\n",
    "            transforms.Resize(image_size),\n",
    "            transforms.ToTensor(),\n",
    "            transforms.Normalize(mean=[0.485, 0.456, 0.406],  # ImageNet stats\n",
    "                                std=[0.229, 0.224, 0.225])\n",
    "        ])\n",
    "    \n",
    "    def __len__(self):\n",
    "        return len(self.image_files)\n",
    "    \n",
    "    def __getitem__(self, idx):\n",
    "        # Load image\n",
    "        img_path = os.path.join(self.img_dir, self.image_files[idx])\n",
    "        image = Image.open(img_path).convert('RGB')\n",
    "        image = self.transform(image)\n",
    "        \n",
    "        # Get corresponding attributes\n",
    "        img_id = self.image_files[idx]\n",
    "        attrs = self.attributes[self.attributes['image_id'] == img_id].iloc[0,1:].values\n",
    "        attrs = torch.tensor(attrs.astype('float32'))\n",
    "        \n",
    "        return image, attrs\n",
    "\n",
    "image_folder = \"/home/iliam/datasets/img_align_celeba/img_align_celeba\"\n",
    "attributes_folder = \"/home/iliam/datasets/list_attr_celeba.csv\"\n",
    "dataset = CelebAAttributesDataset(img_dir=image_folder, attr_path=attributes_folder, image_size=224)\n",
    "model = MRLLoader(weights_path=model_path, num_classes=2)"
   ]
  },
  {
   "cell_type": "code",
   "execution_count": 51,
   "id": "c5a9b09e",
   "metadata": {},
   "outputs": [],
   "source": [
    "from tqdm import tqdm\n",
    "\n",
    "def extract_celeba_embeddings(model, dataset, batch_size=32, device='cuda'):\n",
    "    \"\"\"\n",
    "    Extract embeddings for CelebA images\n",
    "    \n",
    "    Args:\n",
    "        model: Your embedding model\n",
    "        dataset: CelebAAttributesDataset instance\n",
    "        batch_size: Batch size for processing\n",
    "        device: Device to use\n",
    "        \n",
    "    Returns:\n",
    "        Tuple of (embeddings, attributes) where:\n",
    "        - embeddings: Dictionary {dim: tensor_of_embeddings}\n",
    "        - attributes: Tensor of all attributes\n",
    "    \"\"\"\n",
    "    \n",
    "    # Initialize storage\n",
    "    available_dims = sorted(model.get_available_dimensions())\n",
    "    embeddings = {dim: [] for dim in available_dims}\n",
    "    all_attrs = []\n",
    "    \n",
    "    # Create dataloader\n",
    "    dataloader = torch.utils.data.DataLoader(\n",
    "        dataset, batch_size=batch_size, shuffle=False, num_workers=4)\n",
    "    \n",
    "    # Process batches\n",
    "    for batch_imgs, batch_attrs in tqdm(dataloader, desc=\"Extracting embeddings\"):\n",
    "        batch_imgs = batch_imgs.to(device)\n",
    "        \n",
    "        batch_embeddings = model.extract_all_embeddings(batch_imgs)\n",
    "            \n",
    "        for dim in available_dims:\n",
    "            embeddings[dim].append(batch_embeddings[dim].cpu())\n",
    "            \n",
    "        all_attrs.append(batch_attrs.cpu())\n",
    "    \n",
    "    # Concatenate results\n",
    "    final_embeddings = {\n",
    "        dim: torch.cat(emb_list, dim=0) \n",
    "        for dim, emb_list in embeddings.items()\n",
    "    }\n",
    "    final_attrs = torch.cat(all_attrs, dim=0)\n",
    "    \n",
    "    return final_embeddings, final_attrs"
   ]
  },
  {
   "cell_type": "code",
   "execution_count": 52,
   "id": "10aa2143",
   "metadata": {},
   "outputs": [
    {
     "name": "stderr",
     "output_type": "stream",
     "text": [
      "Extracting embeddings: 100%|██████████| 625/625 [01:12<00:00,  8.63it/s]\n"
     ]
    }
   ],
   "source": [
    "embeddings, attributes = extract_celeba_embeddings(\n",
    "    model=model,\n",
    "    dataset=dataset,\n",
    "    batch_size=32\n",
    ")"
   ]
  },
  {
   "cell_type": "code",
   "execution_count": 56,
   "id": "21aadc76",
   "metadata": {},
   "outputs": [
    {
     "name": "stdout",
     "output_type": "stream",
     "text": [
      "torch.Size([20000, 40])\n"
     ]
    }
   ],
   "source": [
    "print(attributes.shape)"
   ]
  },
  {
   "cell_type": "code",
   "execution_count": 57,
   "id": "e507e5c5",
   "metadata": {},
   "outputs": [
    {
     "name": "stdout",
     "output_type": "stream",
     "text": [
      "{8: tensor([[0.6939, 0.7195, 3.6753,  ..., 1.0857, 1.1045, 0.3553],\n",
      "        [2.2355, 2.0173, 3.0601,  ..., 1.3400, 2.5007, 1.1964],\n",
      "        [1.8144, 1.3682, 2.6216,  ..., 0.5065, 2.4597, 1.0796],\n",
      "        ...,\n",
      "        [0.4675, 0.3045, 3.9064,  ..., 0.5736, 1.8378, 0.4113],\n",
      "        [0.9913, 2.6246, 4.9359,  ..., 2.1845, 3.2820, 1.0388],\n",
      "        [0.7721, 2.4770, 4.1156,  ..., 2.2470, 4.0993, 3.6328]]), 16: tensor([[0.6939, 0.7195, 3.6753,  ..., 0.8910, 1.8837, 0.0000],\n",
      "        [2.2355, 2.0173, 3.0601,  ..., 0.1433, 1.8441, 0.0000],\n",
      "        [1.8144, 1.3682, 2.6216,  ..., 0.3543, 2.0841, 0.0000],\n",
      "        ...,\n",
      "        [0.4675, 0.3045, 3.9064,  ..., 1.9297, 1.4940, 0.0000],\n",
      "        [0.9913, 2.6246, 4.9359,  ..., 0.3413, 2.1379, 0.0000],\n",
      "        [0.7721, 2.4770, 4.1156,  ..., 1.2319, 2.5138, 0.0000]]), 32: tensor([[0.6939, 0.7195, 3.6753,  ..., 1.2019, 0.2483, 2.6334],\n",
      "        [2.2355, 2.0173, 3.0601,  ..., 0.7233, 0.1732, 1.9078],\n",
      "        [1.8144, 1.3682, 2.6216,  ..., 0.4488, 0.7031, 1.4833],\n",
      "        ...,\n",
      "        [0.4675, 0.3045, 3.9064,  ..., 0.7497, 0.1602, 1.2979],\n",
      "        [0.9913, 2.6246, 4.9359,  ..., 0.8321, 0.0699, 2.0413],\n",
      "        [0.7721, 2.4770, 4.1156,  ..., 0.6788, 0.6466, 1.4664]]), 64: tensor([[0.6939, 0.7195, 3.6753,  ..., 0.3284, 0.1285, 0.8312],\n",
      "        [2.2355, 2.0173, 3.0601,  ..., 0.6371, 0.6947, 1.2070],\n",
      "        [1.8144, 1.3682, 2.6216,  ..., 0.3460, 1.1018, 1.3719],\n",
      "        ...,\n",
      "        [0.4675, 0.3045, 3.9064,  ..., 1.0100, 0.1447, 0.2617],\n",
      "        [0.9913, 2.6246, 4.9359,  ..., 0.1361, 0.3496, 0.4785],\n",
      "        [0.7721, 2.4770, 4.1156,  ..., 0.5147, 0.8500, 0.3558]]), 128: tensor([[0.6939, 0.7195, 3.6753,  ..., 0.0055, 0.1500, 0.1571],\n",
      "        [2.2355, 2.0173, 3.0601,  ..., 0.4945, 0.5117, 0.5093],\n",
      "        [1.8144, 1.3682, 2.6216,  ..., 0.0828, 0.0000, 0.6947],\n",
      "        ...,\n",
      "        [0.4675, 0.3045, 3.9064,  ..., 0.0000, 0.7742, 0.6236],\n",
      "        [0.9913, 2.6246, 4.9359,  ..., 0.1362, 0.5768, 0.3380],\n",
      "        [0.7721, 2.4770, 4.1156,  ..., 0.4087, 0.2834, 0.3895]]), 256: tensor([[0.6939, 0.7195, 3.6753,  ..., 0.2611, 0.0478, 1.0638],\n",
      "        [2.2355, 2.0173, 3.0601,  ..., 0.0164, 0.2623, 0.2367],\n",
      "        [1.8144, 1.3682, 2.6216,  ..., 0.0684, 0.5066, 0.7716],\n",
      "        ...,\n",
      "        [0.4675, 0.3045, 3.9064,  ..., 0.0945, 0.5083, 0.8257],\n",
      "        [0.9913, 2.6246, 4.9359,  ..., 0.0370, 0.2222, 0.8962],\n",
      "        [0.7721, 2.4770, 4.1156,  ..., 0.2388, 1.4790, 0.2604]]), 512: tensor([[6.9390e-01, 7.1948e-01, 3.6753e+00,  ..., 0.0000e+00, 1.9505e-01,\n",
      "         1.5944e-01],\n",
      "        [2.2355e+00, 2.0173e+00, 3.0601e+00,  ..., 0.0000e+00, 3.6919e-01,\n",
      "         1.4170e-01],\n",
      "        [1.8144e+00, 1.3682e+00, 2.6216e+00,  ..., 5.5533e-03, 3.0421e-01,\n",
      "         2.1883e-02],\n",
      "        ...,\n",
      "        [4.6754e-01, 3.0454e-01, 3.9064e+00,  ..., 1.2726e-03, 2.2288e-01,\n",
      "         1.8843e-02],\n",
      "        [9.9129e-01, 2.6246e+00, 4.9359e+00,  ..., 7.7410e-03, 1.1725e-01,\n",
      "         3.0725e-01],\n",
      "        [7.7206e-01, 2.4770e+00, 4.1156e+00,  ..., 3.8064e-02, 1.0115e+00,\n",
      "         1.6335e-01]]), 1024: tensor([[6.9390e-01, 7.1948e-01, 3.6753e+00,  ..., 8.7301e-02, 1.0611e-01,\n",
      "         0.0000e+00],\n",
      "        [2.2355e+00, 2.0173e+00, 3.0601e+00,  ..., 1.7057e-01, 1.4290e-01,\n",
      "         8.3023e-03],\n",
      "        [1.8144e+00, 1.3682e+00, 2.6216e+00,  ..., 5.3622e-01, 0.0000e+00,\n",
      "         2.4932e-04],\n",
      "        ...,\n",
      "        [4.6754e-01, 3.0454e-01, 3.9064e+00,  ..., 1.0843e-01, 9.5249e-03,\n",
      "         3.0511e-01],\n",
      "        [9.9129e-01, 2.6246e+00, 4.9359e+00,  ..., 1.7929e-01, 0.0000e+00,\n",
      "         0.0000e+00],\n",
      "        [7.7206e-01, 2.4770e+00, 4.1156e+00,  ..., 1.1403e-01, 2.1931e-02,\n",
      "         0.0000e+00]]), 2048: tensor([[6.9390e-01, 7.1948e-01, 3.6753e+00,  ..., 0.0000e+00, 1.5007e-01,\n",
      "         2.1837e-01],\n",
      "        [2.2355e+00, 2.0173e+00, 3.0601e+00,  ..., 2.5238e-02, 1.9717e-02,\n",
      "         1.2284e-01],\n",
      "        [1.8144e+00, 1.3682e+00, 2.6216e+00,  ..., 0.0000e+00, 9.1544e-02,\n",
      "         1.8921e-01],\n",
      "        ...,\n",
      "        [4.6754e-01, 3.0454e-01, 3.9064e+00,  ..., 4.7129e-05, 3.0335e-02,\n",
      "         2.9329e-01],\n",
      "        [9.9129e-01, 2.6246e+00, 4.9359e+00,  ..., 0.0000e+00, 2.3797e-02,\n",
      "         9.3537e-02],\n",
      "        [7.7206e-01, 2.4770e+00, 4.1156e+00,  ..., 0.0000e+00, 2.0401e-01,\n",
      "         2.3684e-02]])}\n"
     ]
    }
   ],
   "source": [
    "print(embeddings)"
   ]
  },
  {
   "cell_type": "code",
   "execution_count": 66,
   "id": "910ca93f",
   "metadata": {},
   "outputs": [],
   "source": [
    "from sklearn.metrics import accuracy_score, roc_auc_score, f1_score\n",
    "import pandas as pd\n",
    "\n",
    "def evaluate_single_attribute(embeddings_dict, attributes, attr_idx=0, test_size=0.2, random_state=42):\n",
    "    \"\"\"\n",
    "    Evaluate logistic regression on a single CelebA attribute\n",
    "    \n",
    "    Args:\n",
    "        embeddings_dict: Dictionary {dim: embeddings_tensor}\n",
    "        attributes: Tensor/array of shape [N, 40] with binary attributes\n",
    "        attr_idx: Index of attribute to evaluate (default: 0)\n",
    "        test_size: Fraction for validation\n",
    "        random_state: Random seed\n",
    "        \n",
    "    Returns:\n",
    "        Dictionary of {dimension: (accuracy, roc_auc, f1)}\n",
    "    \"\"\"\n",
    "    # Convert to numpy if needed\n",
    "    #attrs_np = attributes.cpu().numpy() if hasattr(attributes, 'is_cuda') else np.array(attributes)\n",
    "    y = attributes[:, attr_idx]\n",
    "    \n",
    "    # Check if attribute has variance\n",
    "    if len(np.unique(y)) < 2:\n",
    "        raise ValueError(f\"Attribute {attr_idx} has no variance (all values are the same)\")\n",
    "    \n",
    "    results = {}\n",
    "    \n",
    "    for dim, embeddings in tqdm(embeddings_dict.items()):\n",
    "        # Convert embeddings\n",
    "        #emb_np = embeddings.cpu().numpy() if hasattr(embeddings, 'is_cuda') else np.array(embeddings)\n",
    "        \n",
    "        # Split data\n",
    "        X_train, X_test, y_train, y_test = train_test_split(\n",
    "            embeddings, y,\n",
    "            test_size=test_size,\n",
    "            random_state=random_state,\n",
    "            stratify=y\n",
    "        )\n",
    "        \n",
    "        # Train model\n",
    "        logreg = LogisticRegression(\n",
    "            max_iter=1000,\n",
    "            solver='lbfgs',\n",
    "            random_state=random_state\n",
    "        )\n",
    "        logreg.fit(X_train, y_train)\n",
    "        \n",
    "        # Predictions\n",
    "        y_pred = logreg.predict(X_test)\n",
    "        y_proba = logreg.predict_proba(X_test)[:, 1]\n",
    "        \n",
    "        # Store metrics\n",
    "        results[dim] = {\n",
    "            'accuracy': accuracy_score(y_test, y_pred),\n",
    "            'roc_auc': roc_auc_score(y_test, y_proba),\n",
    "            'f1': f1_score(y_test, y_pred)\n",
    "        }\n",
    "    \n",
    "    return results"
   ]
  },
  {
   "cell_type": "code",
   "execution_count": 69,
   "id": "1f9701ea",
   "metadata": {},
   "outputs": [],
   "source": [
    "def evaluate_single_attribute_knn(embeddings_dict, attributes, attr_idx=0, test_size=0.2, random_state=42):\n",
    "    \"\"\"\n",
    "    Evaluate logistic regression on a single CelebA attribute\n",
    "    \n",
    "    Args:\n",
    "        embeddings_dict: Dictionary {dim: embeddings_tensor}\n",
    "        attributes: Tensor/array of shape [N, 40] with binary attributes\n",
    "        attr_idx: Index of attribute to evaluate (default: 0)\n",
    "        test_size: Fraction for validation\n",
    "        random_state: Random seed\n",
    "        \n",
    "    Returns:\n",
    "        Dictionary of {dimension: (accuracy, roc_auc, f1)}\n",
    "    \"\"\"\n",
    "    # Convert to numpy if needed\n",
    "    #attrs_np = attributes.cpu().numpy() if hasattr(attributes, 'is_cuda') else np.array(attributes)\n",
    "    y = attributes[:, attr_idx]\n",
    "    \n",
    "    # Check if attribute has variance\n",
    "    if len(np.unique(y)) < 2:\n",
    "        raise ValueError(f\"Attribute {attr_idx} has no variance (all values are the same)\")\n",
    "    \n",
    "    results = {}\n",
    "    \n",
    "    for dim, embeddings in tqdm(embeddings_dict.items()):\n",
    "        # Convert embeddings\n",
    "        #emb_np = embeddings.cpu().numpy() if hasattr(embeddings, 'is_cuda') else np.array(embeddings)\n",
    "        \n",
    "        # Split data\n",
    "        X_train, X_test, y_train, y_test = train_test_split(\n",
    "            embeddings, y,\n",
    "            test_size=test_size,\n",
    "            random_state=random_state,\n",
    "            stratify=y\n",
    "        )\n",
    "        \n",
    "        # Train model\n",
    "        clf = KNeighborsClassifier(n_neighbors=5)\n",
    "        clf.fit(X_train, y_train)\n",
    "        \n",
    "        # Predictions\n",
    "        y_pred = clf.predict(X_test)\n",
    "        y_proba = clf.predict_proba(X_test)[:, 1]\n",
    "        \n",
    "        # Store metrics\n",
    "        results[dim] = {\n",
    "            'accuracy': accuracy_score(y_test, y_pred),\n",
    "            'roc_auc': roc_auc_score(y_test, y_proba),\n",
    "            'f1': f1_score(y_test, y_pred)\n",
    "        }\n",
    "    \n",
    "    return results"
   ]
  },
  {
   "cell_type": "code",
   "execution_count": 70,
   "id": "650567ba",
   "metadata": {},
   "outputs": [
    {
     "name": "stderr",
     "output_type": "stream",
     "text": [
      "100%|██████████| 9/9 [00:08<00:00,  1.00it/s]"
     ]
    },
    {
     "name": "stdout",
     "output_type": "stream",
     "text": [
      "Dimension \t Accuracy \t ROC AUC \t F1-Score\n",
      "\t 8 \t 0.5985 \t 0.6277 \t 0.5666\n",
      "----------------------------------------------------------------------------------------------------\n",
      "Dimension \t Accuracy \t ROC AUC \t F1-Score\n",
      "\t 16 \t 0.5995 \t 0.6343 \t 0.5712\n",
      "----------------------------------------------------------------------------------------------------\n",
      "Dimension \t Accuracy \t ROC AUC \t F1-Score\n",
      "\t 32 \t 0.6152 \t 0.6581 \t 0.5919\n",
      "----------------------------------------------------------------------------------------------------\n",
      "Dimension \t Accuracy \t ROC AUC \t F1-Score\n",
      "\t 64 \t 0.6262 \t 0.6704 \t 0.6108\n",
      "----------------------------------------------------------------------------------------------------\n",
      "Dimension \t Accuracy \t ROC AUC \t F1-Score\n",
      "\t 128 \t 0.6420 \t 0.6824 \t 0.6253\n",
      "----------------------------------------------------------------------------------------------------\n",
      "Dimension \t Accuracy \t ROC AUC \t F1-Score\n",
      "\t 256 \t 0.6445 \t 0.6917 \t 0.6305\n",
      "----------------------------------------------------------------------------------------------------\n",
      "Dimension \t Accuracy \t ROC AUC \t F1-Score\n",
      "\t 512 \t 0.6355 \t 0.6862 \t 0.6242\n",
      "----------------------------------------------------------------------------------------------------\n",
      "Dimension \t Accuracy \t ROC AUC \t F1-Score\n",
      "\t 1024 \t 0.6372 \t 0.6914 \t 0.6280\n",
      "----------------------------------------------------------------------------------------------------\n",
      "Dimension \t Accuracy \t ROC AUC \t F1-Score\n",
      "\t 2048 \t 0.6492 \t 0.6990 \t 0.6376\n",
      "----------------------------------------------------------------------------------------------------\n"
     ]
    },
    {
     "name": "stderr",
     "output_type": "stream",
     "text": [
      "\n"
     ]
    }
   ],
   "source": [
    "# Evaluate just the first attribute (index 0)\n",
    "# check 2, 18, 19, 20, 21, 32, 37\n",
    "results = evaluate_single_attribute_knn(embeddings, attributes, attr_idx=19)\n",
    "\n",
    "# Pretty print results\n",
    "for dim, metrics in results.items():\n",
    "    print(\"Dimension \\t Accuracy \\t ROC AUC \\t F1-Score\")\n",
    "    print(f\"\\t {dim} \\t {metrics['accuracy']:.4f} \\t {metrics['roc_auc']:.4f} \\t {metrics['f1']:.4f}\")\n",
    "    print(\"-\" * 100)"
   ]
  }
 ],
 "metadata": {
  "kernelspec": {
   "display_name": "MRL-env",
   "language": "python",
   "name": "python3"
  },
  "language_info": {
   "codemirror_mode": {
    "name": "ipython",
    "version": 3
   },
   "file_extension": ".py",
   "mimetype": "text/x-python",
   "name": "python",
   "nbconvert_exporter": "python",
   "pygments_lexer": "ipython3",
   "version": "3.12.3"
  }
 },
 "nbformat": 4,
 "nbformat_minor": 5
}
