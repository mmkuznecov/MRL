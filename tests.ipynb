{
 "cells": [
  {
   "cell_type": "code",
   "execution_count": 1,
   "id": "68cab237",
   "metadata": {},
   "outputs": [
    {
     "name": "stderr",
     "output_type": "stream",
     "text": [
      "/home/davinci/miniconda3/envs/mrl/lib/python3.10/site-packages/tqdm/auto.py:21: TqdmWarning: IProgress not found. Please update jupyter and ipywidgets. See https://ipywidgets.readthedocs.io/en/stable/user_install.html\n",
      "  from .autonotebook import tqdm as notebook_tqdm\n"
     ]
    }
   ],
   "source": [
    "import torch\n",
    "import torch.nn as nn\n",
    "import torch.nn.functional as F\n",
    "from torchvision import models, transforms\n",
    "import numpy as np\n",
    "from tqdm import tqdm\n",
    "from datasets import load_from_disk\n",
    "from PIL import Image\n",
    "\n",
    "# Define the MRL components from the code base\n",
    "class MRL_Linear_Layer(nn.Module):\n",
    "    def __init__(self, nesting_list, num_classes=1000, efficient=False, emb_eval = False, **kwargs):\n",
    "        super(MRL_Linear_Layer, self).__init__()\n",
    "        self.nesting_list = nesting_list\n",
    "        self.num_classes = num_classes\n",
    "        self.efficient = efficient\n",
    "        self.emb_eval = emb_eval\n",
    "        \n",
    "        if self.efficient:\n",
    "            setattr(self, f\"nesting_classifier_{0}\", nn.Linear(nesting_list[-1], self.num_classes, **kwargs))\n",
    "        else:    \n",
    "            for i, num_feat in enumerate(self.nesting_list):\n",
    "                setattr(self, f\"nesting_classifier_{i}\", nn.Linear(num_feat, self.num_classes, **kwargs))    \n",
    "\n",
    "    def reset_parameters(self):\n",
    "        if self.efficient:\n",
    "            self.nesting_classifier_0.reset_parameters()\n",
    "        else:\n",
    "            for i in range(len(self.nesting_list)):\n",
    "                getattr(self, f\"nesting_classifier_{i}\").reset_parameters()\n",
    "\n",
    "    def forward(self, x):\n",
    "        nesting_logits = ()\n",
    "        if self.emb_eval:\n",
    "            nesting_embeddings = []\n",
    "        for i, num_feat in enumerate(self.nesting_list):\n",
    "            if self.emb_eval:\n",
    "                nesting_embeddings.append(x[:, :num_feat])\n",
    "            if self.efficient:\n",
    "                if self.nesting_classifier_0.bias is None:\n",
    "                    nesting_logits += (torch.matmul(x[:, :num_feat], (self.nesting_classifier_0.weight[:, :num_feat]).t()), )\n",
    "                else:\n",
    "                    nesting_logits += (torch.matmul(x[:, :num_feat], (self.nesting_classifier_0.weight[:, :num_feat]).t()) + self.nesting_classifier_0.bias, )\n",
    "            else:\n",
    "                nesting_logits += (getattr(self, f\"nesting_classifier_{i}\")(x[:, :num_feat]),)\n",
    "        if self.emb_eval:\n",
    "            return nesting_embeddings, nesting_logits\n",
    "        return nesting_logits\n",
    "\n",
    "class BlurPoolConv2d(nn.Module):\n",
    "    def __init__(self, conv):\n",
    "        super().__init__()\n",
    "        default_filter = torch.tensor([[[[1, 2, 1], [2, 4, 2], [1, 2, 1]]]]) / 16.0\n",
    "        filt = default_filter.repeat(conv.in_channels, 1, 1, 1)\n",
    "        self.conv = conv\n",
    "        self.register_buffer('blur_filter', filt)\n",
    "\n",
    "    def forward(self, x):\n",
    "        blurred = F.conv2d(x, self.blur_filter, stride=1, padding=(1, 1),\n",
    "                           groups=self.conv.in_channels, bias=None)\n",
    "        return self.conv.forward(blurred)"
   ]
  },
  {
   "cell_type": "code",
   "execution_count": 2,
   "id": "af5e437b",
   "metadata": {},
   "outputs": [],
   "source": [
    "def apply_blurpool(mod: nn.Module):\n",
    "    for (name, child) in mod.named_children():\n",
    "        if isinstance(child, nn.Conv2d) and (np.max(child.stride) > 1 and child.in_channels >= 16):\n",
    "            setattr(mod, name, BlurPoolConv2d(child))\n",
    "        else: \n",
    "            apply_blurpool(child)"
   ]
  },
  {
   "cell_type": "code",
   "execution_count": 3,
   "id": "a1bcfd45",
   "metadata": {},
   "outputs": [],
   "source": [
    "def load_model(model_path, emb_eval):\n",
    "    # Model configuration\n",
    "    nesting_start = 3\n",
    "    efficient = True\n",
    "    nesting_list = [2**i for i in range(nesting_start, 12)]  # 8, 16, 32, 64, 128, 256, 512, 1024, 2048\n",
    "    num_classes = 1000\n",
    "    \n",
    "    # Create the model\n",
    "    print(\"Initializing ResNet50 model...\")\n",
    "    model = models.resnet50(pretrained=True)\n",
    "    model.fc = MRL_Linear_Layer(nesting_list, num_classes=num_classes, efficient=efficient, emb_eval=emb_eval)\n",
    "    \n",
    "    # Apply BlurPool to the model\n",
    "    print(\"Applying BlurPool...\")\n",
    "    apply_blurpool(model)\n",
    "    \n",
    "    # Load the pretrained weights\n",
    "    try:\n",
    "        print(f\"Loading weights from {model_path}...\")\n",
    "        checkpoint = torch.load(model_path, map_location='cpu')\n",
    "        \n",
    "        # Handle case where weights were saved in DataParallel format\n",
    "        if list(checkpoint.keys())[0].startswith('module.'):\n",
    "            # Remove 'module.' prefix\n",
    "            clean_ckpt = {}\n",
    "            for k, v in checkpoint.items():\n",
    "                clean_ckpt[k[7:] if k.startswith('module.') else k] = v\n",
    "            checkpoint = clean_ckpt\n",
    "        \n",
    "        model.load_state_dict(checkpoint)\n",
    "        print(\"Model loaded successfully!\")\n",
    "    except Exception as e:\n",
    "        print(f\"Error loading weights: {e}\")\n",
    "        print(\"Continuing with pretrained weights only.\")\n",
    "    \n",
    "    # Move model to GPU if available\n",
    "    device = torch.device(\"cuda\" if torch.cuda.is_available() else \"cpu\")\n",
    "    model = model.to(device)\n",
    "    model = model.to(memory_format=torch.channels_last)\n",
    "    model.eval()\n",
    "    \n",
    "    return model, nesting_list, device"
   ]
  },
  {
   "cell_type": "code",
   "execution_count": 4,
   "id": "2219f2dd",
   "metadata": {},
   "outputs": [],
   "source": [
    "def evaluate_dataset(model, dataset, nesting_list, device, batch_size=64, num_samples=None):\n",
    "    # Standard ImageNet normalization\n",
    "    normalize = transforms.Normalize(\n",
    "        mean=[0.485, 0.456, 0.406],\n",
    "        std=[0.229, 0.224, 0.225]\n",
    "    )\n",
    "    \n",
    "    # Create transformation pipeline\n",
    "    transform = transforms.Compose([\n",
    "        transforms.Resize(256),\n",
    "        transforms.CenterCrop(224),\n",
    "        transforms.ToTensor(),\n",
    "        normalize,\n",
    "    ])\n",
    "    \n",
    "    # Initialize accuracy trackers for each embedding dimension\n",
    "    correct_top1 = {dim: 0 for dim in nesting_list}\n",
    "    correct_top5 = {dim: 0 for dim in nesting_list}\n",
    "    \n",
    "    # Limit samples if specified\n",
    "    if num_samples is not None:\n",
    "        total_samples = min(num_samples, len(dataset))\n",
    "    else:\n",
    "        total_samples = len(dataset)\n",
    "    \n",
    "    # Process in batches\n",
    "    batches = []\n",
    "    labels = []\n",
    "    \n",
    "    print(f\"Processing {total_samples} images...\")\n",
    "    for i in tqdm(range(0, total_samples, batch_size)):\n",
    "        batch_indices = range(i, min(i + batch_size, total_samples))\n",
    "        batch_images = []\n",
    "        batch_labels = []\n",
    "        \n",
    "        # Process each image in the batch\n",
    "        for idx in batch_indices:\n",
    "            sample = dataset[idx]\n",
    "            image = sample['image']\n",
    "            label = sample['label']\n",
    "            \n",
    "            # Apply transformations\n",
    "            img_tensor = transform(image)\n",
    "            batch_images.append(img_tensor)\n",
    "            batch_labels.append(label)\n",
    "        \n",
    "        # Stack into a batch tensor\n",
    "        images_tensor = torch.stack(batch_images).to(device)\n",
    "        labels_tensor = torch.tensor(batch_labels).to(device)\n",
    "        \n",
    "        # Convert to channels last format for better performance\n",
    "        images_tensor = images_tensor.to(memory_format=torch.channels_last)\n",
    "        \n",
    "        # Forward pass\n",
    "        with torch.no_grad():\n",
    "            outputs = model(images_tensor)\n",
    "        \n",
    "        # Calculate accuracy for each embedding dimension\n",
    "        for j, dim in enumerate(nesting_list):\n",
    "            # Top-1 accuracy\n",
    "            _, predicted = outputs[j].max(1)\n",
    "            correct_top1[dim] += (predicted == labels_tensor).sum().item()\n",
    "            \n",
    "            # Top-5 accuracy\n",
    "            _, top5_indices = outputs[j].topk(5, dim=1)\n",
    "            labels_expanded = labels_tensor.view(-1, 1).expand_as(top5_indices)\n",
    "            correct_top5[dim] += (top5_indices == labels_expanded).sum().item()\n",
    "    \n",
    "    # Calculate final accuracy for each dimension\n",
    "    accuracy_top1 = {dim: correct_top1[dim] / total_samples * 100 for dim in nesting_list}\n",
    "    accuracy_top5 = {dim: correct_top5[dim] / total_samples * 100 for dim in nesting_list}\n",
    "    \n",
    "    return accuracy_top1, accuracy_top5, total_samples"
   ]
  },
  {
   "cell_type": "code",
   "execution_count": 5,
   "id": "fedb7dc6",
   "metadata": {},
   "outputs": [],
   "source": [
    "def evaluate_embeddings(model, dataset, nesting_list, device, batch_size=64, num_samples=None):\n",
    "    # Standard ImageNet normalization\n",
    "    normalize = transforms.Normalize(\n",
    "        mean=[0.485, 0.456, 0.406],\n",
    "        std=[0.229, 0.224, 0.225]\n",
    "    )\n",
    "    \n",
    "    # Create transformation pipeline\n",
    "    transform = transforms.Compose([\n",
    "        transforms.Resize(256),\n",
    "        transforms.CenterCrop(224),\n",
    "        transforms.ToTensor(),\n",
    "        normalize,\n",
    "    ])\n",
    "    \n",
    "    # Initialize storage for embeddings and labels\n",
    "    embeddings_dict = {dim: [] for dim in nesting_list}\n",
    "    all_labels = []\n",
    "    \n",
    "    # Limit samples if specified\n",
    "    if num_samples is not None:\n",
    "        total_samples = min(num_samples, len(dataset))\n",
    "    else:\n",
    "        total_samples = len(dataset)\n",
    "    \n",
    "    print(f\"Extracting embeddings from {total_samples} images...\")\n",
    "    for i in tqdm(range(0, total_samples, batch_size)):\n",
    "        batch_indices = range(i, min(i + batch_size, total_samples))\n",
    "        batch_images = []\n",
    "        batch_labels = []\n",
    "        \n",
    "        # Process each image in the batch\n",
    "        for idx in batch_indices:\n",
    "            sample = dataset[idx]\n",
    "            image = sample['image']\n",
    "            label = sample['label']\n",
    "            \n",
    "            # Apply transformations\n",
    "            img_tensor = transform(image)\n",
    "            batch_images.append(img_tensor)\n",
    "            batch_labels.append(label)\n",
    "        \n",
    "        # Stack into batch tensors\n",
    "        images_tensor = torch.stack(batch_images).to(device)\n",
    "        labels_tensor = torch.tensor(batch_labels).to(device)\n",
    "        \n",
    "        # Convert to channels last format\n",
    "        images_tensor = images_tensor.to(memory_format=torch.channels_last)\n",
    "        \n",
    "        # Forward pass to get embeddings\n",
    "        with torch.no_grad():\n",
    "            batch_embeddings, _ = model(images_tensor)  # Ignore logits\n",
    "            \n",
    "        # Store embeddings and labels\n",
    "        for dim_idx, dim in enumerate(nesting_list):\n",
    "            # Move embeddings to CPU and detach from computation graph\n",
    "            embeddings_dict[dim].append(\n",
    "                batch_embeddings[dim_idx].detach().cpu()\n",
    "            )\n",
    "        all_labels.append(labels_tensor.cpu())\n",
    "    \n",
    "    # Concatenate all batches\n",
    "    for dim in nesting_list:\n",
    "        embeddings_dict[dim] = torch.cat(embeddings_dict[dim], dim=0)\n",
    "    all_labels = torch.cat(all_labels, dim=0)\n",
    "    \n",
    "    return embeddings_dict, all_labels"
   ]
  },
  {
   "cell_type": "code",
   "execution_count": 6,
   "id": "758a9c47",
   "metadata": {},
   "outputs": [
    {
     "name": "stdout",
     "output_type": "stream",
     "text": [
      "Initializing ResNet50 model...\n"
     ]
    },
    {
     "name": "stderr",
     "output_type": "stream",
     "text": [
      "/home/davinci/miniconda3/envs/mrl/lib/python3.10/site-packages/torchvision/models/_utils.py:208: UserWarning: The parameter 'pretrained' is deprecated since 0.13 and may be removed in the future, please use 'weights' instead.\n",
      "  warnings.warn(\n",
      "/home/davinci/miniconda3/envs/mrl/lib/python3.10/site-packages/torchvision/models/_utils.py:223: UserWarning: Arguments other than a weight enum or `None` for 'weights' are deprecated since 0.13 and may be removed in the future. The current behavior is equivalent to passing `weights=ResNet50_Weights.IMAGENET1K_V1`. You can also use `weights=ResNet50_Weights.DEFAULT` to get the most up-to-date weights.\n",
      "  warnings.warn(msg)\n"
     ]
    },
    {
     "name": "stdout",
     "output_type": "stream",
     "text": [
      "Applying BlurPool...\n",
      "Loading weights from weights/final_weights.pt...\n",
      "Model loaded successfully!\n",
      "Loading val dataset from data/imagenet_1k_resized_256_val...\n",
      "Val dataset loaded with 50000 samples\n"
     ]
    }
   ],
   "source": [
    "# Configuration\n",
    "model_path = \"weights/final_weights.pt\"\n",
    "val_dataset_path = \"data/imagenet_1k_resized_256_val\"\n",
    "batch_size = 512  # Adjust based on your GPU memory\n",
    "num_samples = None  # Set to None to process all images, or a number to limit samples\n",
    "\n",
    "# Load model\n",
    "model, nesting_list, device = load_model(model_path, emb_eval=True)\n",
    "\n",
    "# Load datasets\n",
    "print(f\"Loading val dataset from {val_dataset_path}...\")\n",
    "val_dataset = load_from_disk(val_dataset_path)\n",
    "print(f\"Val dataset loaded with {len(val_dataset)} samples\")\n",
    "\n",
    "# # Evaluate the model on the dataset\n",
    "# accuracy_top1, accuracy_top5, total_samples = evaluate_dataset(\n",
    "#     model, dataset, nesting_list, device, batch_size, num_samples\n",
    "# )\n",
    "\n",
    "# # Print results\n",
    "# print(f\"\\nEvaluation completed on {total_samples} images\")\n",
    "# print(\"\\nAccuracy results for each embedding dimension:\")\n",
    "# print(f\"{'Embedding Dim':<15} {'Top-1 Accuracy (%)':<20} {'Top-5 Accuracy (%)'}\")\n",
    "# print(\"-\" * 60)\n",
    "\n",
    "# for dim in nesting_list:\n",
    "#     print(f\"{dim:<15} {accuracy_top1[dim]:<20.2f} {accuracy_top5[dim]:<20.2f}\")\n",
    "\n",
    "# # Print a summary for the best dimension\n",
    "# best_dim = max(accuracy_top1, key=accuracy_top1.get)\n",
    "# print(f\"\\nBest performing dimension: {best_dim}\")\n",
    "# print(f\"Top-1 Accuracy: {accuracy_top1[best_dim]:.2f}%\")\n",
    "# print(f\"Top-5 Accuracy: {accuracy_top5[best_dim]:.2f}%\")"
   ]
  },
  {
   "cell_type": "code",
   "execution_count": 7,
   "id": "dccf9de2",
   "metadata": {},
   "outputs": [
    {
     "name": "stdout",
     "output_type": "stream",
     "text": [
      "Extracting embeddings from 50000 images...\n"
     ]
    },
    {
     "name": "stderr",
     "output_type": "stream",
     "text": [
      "100%|██████████| 98/98 [02:13<00:00,  1.36s/it]\n"
     ]
    }
   ],
   "source": [
    "val_emb, val_labels = evaluate_embeddings(\n",
    "    model, val_dataset, nesting_list, device, batch_size, num_samples\n",
    ")"
   ]
  },
  {
   "cell_type": "code",
   "execution_count": 8,
   "id": "51e3479d",
   "metadata": {},
   "outputs": [
    {
     "data": {
      "text/plain": [
       "(torch.Size([50000, 2048]), torch.Size([50000, 128]))"
      ]
     },
     "execution_count": 8,
     "metadata": {},
     "output_type": "execute_result"
    }
   ],
   "source": [
    "val_emb[2048].shape, val_emb[128].shape"
   ]
  },
  {
   "cell_type": "markdown",
   "id": "9d00f4d9",
   "metadata": {},
   "source": [
    "Custom splitting function that preserves class balance."
   ]
  },
  {
   "cell_type": "code",
   "execution_count": 9,
   "id": "bfc5fdd4",
   "metadata": {},
   "outputs": [],
   "source": [
    "from collections import defaultdict\n",
    "from sklearn.utils import shuffle\n",
    "\n",
    "def stratified_embedding_split(embeddings, labels, test_size=0.2, random_state=None):\n",
    "    if isinstance(embeddings, torch.Tensor):\n",
    "        embeddings = embeddings.cpu().numpy()\n",
    "    if isinstance(labels, torch.Tensor):\n",
    "        labels = labels.cpu().numpy()\n",
    "\n",
    "    # Create class-index mapping\n",
    "    class_indices = defaultdict(list)\n",
    "    for idx, label in enumerate(labels):\n",
    "        class_indices[label].append(idx)\n",
    "\n",
    "    train_indices = []\n",
    "    test_indices = []\n",
    "\n",
    "    for class_label, indices in class_indices.items():\n",
    "        n_samples = len(indices)\n",
    "        n_test = max(1, int(n_samples * test_size))  # Ensure at least 1 sample per class\n",
    "\n",
    "\n",
    "        np.random.seed(random_state)\n",
    "        shuffled_indices = shuffle(indices, random_state=random_state)\n",
    "        class_test = shuffled_indices[:n_test]\n",
    "        class_train = shuffled_indices[n_test:]\n",
    "        \n",
    "        test_indices.extend(class_test)\n",
    "        train_indices.extend(class_train)\n",
    "\n",
    "    np.random.seed(random_state)\n",
    "    train_indices = shuffle(train_indices, random_state=random_state)\n",
    "    test_indices = shuffle(test_indices, random_state=random_state)\n",
    "\n",
    "    X_train = embeddings[train_indices]\n",
    "    X_test = embeddings[test_indices]\n",
    "    y_train = labels[train_indices]\n",
    "    y_test = labels[test_indices]\n",
    "\n",
    "    return X_train, X_test, y_train, y_test"
   ]
  },
  {
   "cell_type": "code",
   "execution_count": 10,
   "id": "15bbb7f9",
   "metadata": {},
   "outputs": [
    {
     "data": {
      "text/plain": [
       "{8: tensor([[1.4059, 1.2499, 1.8584,  ..., 3.3244, 4.2899, 4.1955],\n",
       "         [0.4065, 0.2182, 2.1188,  ..., 3.2118, 3.8497, 3.8722],\n",
       "         [0.7227, 1.3140, 3.3428,  ..., 4.2371, 4.5441, 3.9449],\n",
       "         ...,\n",
       "         [0.8705, 1.1002, 1.2172,  ..., 1.0137, 0.8097, 1.5498],\n",
       "         [2.9711, 3.3458, 0.0000,  ..., 3.3654, 4.0677, 0.0000],\n",
       "         [2.7767, 0.8446, 2.6472,  ..., 2.5229, 1.9385, 1.4817]]),\n",
       " 16: tensor([[1.4059, 1.2499, 1.8584,  ..., 1.1774, 1.8920, 0.0000],\n",
       "         [0.4065, 0.2182, 2.1188,  ..., 0.1383, 2.2425, 0.0000],\n",
       "         [0.7227, 1.3140, 3.3428,  ..., 0.8673, 3.2815, 0.0000],\n",
       "         ...,\n",
       "         [0.8705, 1.1002, 1.2172,  ..., 0.8911, 0.8739, 0.0000],\n",
       "         [2.9711, 3.3458, 0.0000,  ..., 2.4791, 1.4946, 0.0000],\n",
       "         [2.7767, 0.8446, 2.6472,  ..., 2.5429, 1.8226, 0.0000]]),\n",
       " 32: tensor([[1.4059, 1.2499, 1.8584,  ..., 1.4344, 0.6390, 0.1136],\n",
       "         [0.4065, 0.2182, 2.1188,  ..., 0.3060, 0.0921, 0.2588],\n",
       "         [0.7227, 1.3140, 3.3428,  ..., 0.4607, 0.2700, 1.3348],\n",
       "         ...,\n",
       "         [0.8705, 1.1002, 1.2172,  ..., 1.5792, 0.6604, 1.2840],\n",
       "         [2.9711, 3.3458, 0.0000,  ..., 0.0737, 0.0087, 0.0119],\n",
       "         [2.7767, 0.8446, 2.6472,  ..., 0.9057, 0.1429, 1.5436]]),\n",
       " 64: tensor([[1.4059, 1.2499, 1.8584,  ..., 0.5042, 0.2363, 0.2527],\n",
       "         [0.4065, 0.2182, 2.1188,  ..., 0.0000, 0.0000, 0.0181],\n",
       "         [0.7227, 1.3140, 3.3428,  ..., 0.5995, 0.0088, 1.4361],\n",
       "         ...,\n",
       "         [0.8705, 1.1002, 1.2172,  ..., 0.4425, 0.6404, 0.4796],\n",
       "         [2.9711, 3.3458, 0.0000,  ..., 0.1132, 0.0277, 0.0546],\n",
       "         [2.7767, 0.8446, 2.6472,  ..., 1.4058, 1.6180, 1.3652]]),\n",
       " 128: tensor([[1.4059e+00, 1.2499e+00, 1.8584e+00,  ..., 4.7303e-02, 1.1424e+00,\n",
       "          3.4169e-01],\n",
       "         [4.0651e-01, 2.1821e-01, 2.1188e+00,  ..., 2.3709e-01, 2.8046e-01,\n",
       "          4.5326e-03],\n",
       "         [7.2270e-01, 1.3140e+00, 3.3428e+00,  ..., 5.7135e-02, 7.2223e-01,\n",
       "          1.0866e-01],\n",
       "         ...,\n",
       "         [8.7048e-01, 1.1002e+00, 1.2172e+00,  ..., 1.8985e-01, 3.4812e-01,\n",
       "          7.8790e-01],\n",
       "         [2.9711e+00, 3.3458e+00, 0.0000e+00,  ..., 7.4404e-02, 1.0190e-03,\n",
       "          2.0356e-01],\n",
       "         [2.7767e+00, 8.4461e-01, 2.6472e+00,  ..., 1.4374e+00, 3.0410e-01,\n",
       "          7.4810e-02]]),\n",
       " 256: tensor([[1.4059, 1.2499, 1.8584,  ..., 0.1516, 0.3547, 0.0744],\n",
       "         [0.4065, 0.2182, 2.1188,  ..., 0.0523, 0.0076, 0.0059],\n",
       "         [0.7227, 1.3140, 3.3428,  ..., 0.2424, 1.1207, 0.0425],\n",
       "         ...,\n",
       "         [0.8705, 1.1002, 1.2172,  ..., 0.3279, 0.7134, 0.0217],\n",
       "         [2.9711, 3.3458, 0.0000,  ..., 0.0254, 0.1666, 0.2955],\n",
       "         [2.7767, 0.8446, 2.6472,  ..., 0.1611, 0.2193, 0.0349]]),\n",
       " 512: tensor([[1.4059e+00, 1.2499e+00, 1.8584e+00,  ..., 2.8267e-02, 6.0897e-01,\n",
       "          3.7212e-03],\n",
       "         [4.0651e-01, 2.1821e-01, 2.1188e+00,  ..., 3.4913e-03, 4.0266e-01,\n",
       "          1.9561e-02],\n",
       "         [7.2270e-01, 1.3140e+00, 3.3428e+00,  ..., 4.2617e-02, 4.8179e-01,\n",
       "          2.6827e-01],\n",
       "         ...,\n",
       "         [8.7048e-01, 1.1002e+00, 1.2172e+00,  ..., 3.0602e-04, 6.5003e-02,\n",
       "          3.4795e-01],\n",
       "         [2.9711e+00, 3.3458e+00, 0.0000e+00,  ..., 1.3364e-01, 7.7136e-01,\n",
       "          7.4586e-02],\n",
       "         [2.7767e+00, 8.4461e-01, 2.6472e+00,  ..., 1.2059e-02, 1.4958e-01,\n",
       "          1.0560e-02]]),\n",
       " 1024: tensor([[1.4059e+00, 1.2499e+00, 1.8584e+00,  ..., 8.2214e-02, 0.0000e+00,\n",
       "          0.0000e+00],\n",
       "         [4.0651e-01, 2.1821e-01, 2.1188e+00,  ..., 2.3774e-01, 2.9191e-02,\n",
       "          0.0000e+00],\n",
       "         [7.2270e-01, 1.3140e+00, 3.3428e+00,  ..., 3.9143e-02, 2.8028e-02,\n",
       "          3.7472e-03],\n",
       "         ...,\n",
       "         [8.7048e-01, 1.1002e+00, 1.2172e+00,  ..., 7.1123e-02, 0.0000e+00,\n",
       "          2.1687e-02],\n",
       "         [2.9711e+00, 3.3458e+00, 0.0000e+00,  ..., 2.4377e-03, 3.8640e-03,\n",
       "          0.0000e+00],\n",
       "         [2.7767e+00, 8.4461e-01, 2.6472e+00,  ..., 1.8093e-01, 7.2078e-01,\n",
       "          1.0773e-01]]),\n",
       " 2048: tensor([[1.4059e+00, 1.2499e+00, 1.8584e+00,  ..., 1.0368e-01, 3.2631e-01,\n",
       "          0.0000e+00],\n",
       "         [4.0651e-01, 2.1821e-01, 2.1188e+00,  ..., 1.0222e-02, 0.0000e+00,\n",
       "          0.0000e+00],\n",
       "         [7.2270e-01, 1.3140e+00, 3.3428e+00,  ..., 3.6005e-02, 1.3225e-01,\n",
       "          2.6532e-03],\n",
       "         ...,\n",
       "         [8.7048e-01, 1.1002e+00, 1.2172e+00,  ..., 5.1649e-02, 4.1686e-02,\n",
       "          6.7070e-03],\n",
       "         [2.9711e+00, 3.3458e+00, 0.0000e+00,  ..., 8.4013e-03, 4.8778e-02,\n",
       "          2.7350e-02],\n",
       "         [2.7767e+00, 8.4461e-01, 2.6472e+00,  ..., 1.7539e-02, 2.4895e-02,\n",
       "          7.5409e-02]])}"
      ]
     },
     "execution_count": 10,
     "metadata": {},
     "output_type": "execute_result"
    }
   ],
   "source": [
    "val_emb"
   ]
  },
  {
   "cell_type": "code",
   "execution_count": 11,
   "id": "d7070a72",
   "metadata": {},
   "outputs": [],
   "source": [
    "def save_embeddings(embeddings_dict, labels, nesting_list, save_path):\n",
    "    \"\"\"Save embeddings dictionary with labels and metadata to .npz file\"\"\"\n",
    "    # Convert all tensors to numpy arrays\n",
    "    save_dict = {\n",
    "        f'dim_{dim}': emb.cpu().numpy()  # Move to CPU first if using GPU\n",
    "        for dim, emb in embeddings_dict.items()\n",
    "    }\n",
    "    \n",
    "    # Add labels and metadata\n",
    "    save_dict['labels'] = labels.cpu().numpy()\n",
    "    save_dict['nesting_list'] = np.array(nesting_list)\n",
    "    \n",
    "    # Save with compression\n",
    "    np.savez_compressed(save_path, **save_dict)"
   ]
  },
  {
   "cell_type": "code",
   "execution_count": 12,
   "id": "df85ac67",
   "metadata": {},
   "outputs": [],
   "source": [
    "nesting_list = [2**i for i in range(3, 12)]\n",
    "#save_embeddings(val_emb, val_labels, nesting_list, 'data/embeddings/embeddings.npz')"
   ]
  },
  {
   "cell_type": "code",
   "execution_count": 13,
   "id": "1aef6015",
   "metadata": {},
   "outputs": [],
   "source": [
    "X_train, X_test, y_train, y_test = stratified_embedding_split(val_emb[2048], val_labels, test_size=.7, random_state=42)\n",
    "\n",
    "def convert_to_numpy(data):\n",
    "        if isinstance(data, torch.Tensor):\n",
    "            return data.cpu().numpy()\n",
    "        return data\n",
    "    \n",
    "X_train = convert_to_numpy(X_train)\n",
    "X_test = convert_to_numpy(X_test)\n",
    "y_train = convert_to_numpy(y_train)\n",
    "y_test = convert_to_numpy(y_test)"
   ]
  },
  {
   "cell_type": "code",
   "execution_count": 19,
   "id": "65e6e25e",
   "metadata": {},
   "outputs": [],
   "source": [
    "from sklearn.metrics import accuracy_score\n",
    "from sklearn.decomposition import PCA, FastICA\n",
    "from sklearn.manifold import Isomap, MDS, SpectralEmbedding, LocallyLinearEmbedding\n",
    "import numpy as np\n",
    "\n",
    "def evaluate_sklearn_classifiers(X_train, y_train, X_test, y_test, classifiers, \n",
    "                                nesting_dims, dim_reduction_method='cutoff'):\n",
    "    results = {}\n",
    "    max_dim = X_train.shape[1]\n",
    "    \n",
    "    for clf_name, clf in classifiers.items():\n",
    "        print(f\"\\nEvaluating {clf_name} ({dim_reduction_method} method)...\")\n",
    "        dim_accuracies = {}\n",
    "        \n",
    "        for dim in tqdm(sorted(nesting_dims), desc=\"Dimensions\"):\n",
    "            effective_dim = min(dim, max_dim)\n",
    "\n",
    "            # Apply dimensionality reduction\n",
    "            if dim_reduction_method == 'cutoff':\n",
    "                X_train_reduced = X_train[:, :effective_dim]\n",
    "                X_test_reduced = X_test[:, :effective_dim]\n",
    "            elif dim_reduction_method == 'pca':\n",
    "                pca = PCA(n_components=effective_dim, random_state=42)\n",
    "                X_train_reduced = pca.fit_transform(X_train)\n",
    "                X_test_reduced = pca.transform(X_test)\n",
    "            elif dim_reduction_method == 'ica':\n",
    "                ica = FastICA(n_components=effective_dim, random_state=42)\n",
    "                X_train_reduced = ica.fit_transform(X_train)\n",
    "                X_test_reduced = ica.transform(X_test)\n",
    "            elif dim_reduction_method == 'isomap':\n",
    "                if effective_dim <= 64:\n",
    "                    n_neighbors = effective_dim * 2\n",
    "                else:\n",
    "                    n_neighbors = 256\n",
    "                isomap = Isomap(n_jobs=-1, n_neighbors = n_neighbors, n_components=effective_dim)\n",
    "                X_train_reduced = isomap.fit_transform(X_train)\n",
    "                X_test_reduced = isomap.transform(X_test)\n",
    "            else:\n",
    "                raise ValueError(f\"Unknown reduction method: {dim_reduction_method}\")\n",
    "\n",
    "            # Train and evaluate\n",
    "            clf.fit(X_train_reduced, y_train)\n",
    "            y_pred = clf.predict(X_test_reduced)\n",
    "            acc = accuracy_score(y_test, y_pred)\n",
    "            dim_accuracies[dim] = acc\n",
    "        \n",
    "        results[clf_name] = dim_accuracies\n",
    "    \n",
    "    return results"
   ]
  },
  {
   "cell_type": "code",
   "execution_count": 15,
   "id": "918f9757",
   "metadata": {},
   "outputs": [],
   "source": [
    "from sklearn.neighbors import KNeighborsClassifier\n",
    "from sklearn.ensemble import RandomForestClassifier\n",
    "from sklearn.linear_model import LogisticRegression\n",
    "from sklearn.preprocessing import StandardScaler\n",
    "\n",
    "nesting_list = [2**i for i in range(3, 11)]  # 8, 16, 32, 64, 128, 256, 512, 1024\n",
    "\n",
    "scaler = StandardScaler()\n",
    "X_train = scaler.fit_transform(X_train)\n",
    "X_test = scaler.transform(X_test)"
   ]
  },
  {
   "cell_type": "code",
   "execution_count": 16,
   "id": "fcfe89d8",
   "metadata": {},
   "outputs": [
    {
     "name": "stdout",
     "output_type": "stream",
     "text": [
      "\n",
      "Evaluating KNN (cutoff method)...\n"
     ]
    },
    {
     "name": "stderr",
     "output_type": "stream",
     "text": [
      "Dimensions: 100%|██████████| 8/8 [00:16<00:00,  2.11s/it]\n"
     ]
    }
   ],
   "source": [
    "classifiers = {\"KNN\": KNeighborsClassifier(n_neighbors=8, n_jobs=-1),\n",
    "            #    \"RFC\": RandomForestClassifier(random_state=42, n_jobs=-1),\n",
    "            #    \"LogReg\": LogisticRegression(solver='saga', random_state=42, n_jobs=-1)\n",
    "               }\n",
    "results_cutoff = evaluate_sklearn_classifiers(X_train, y_train, X_test, y_test, classifiers, nesting_list)"
   ]
  },
  {
   "cell_type": "code",
   "execution_count": 17,
   "id": "62c04aec",
   "metadata": {},
   "outputs": [
    {
     "name": "stdout",
     "output_type": "stream",
     "text": [
      "\n",
      "Evaluating KNN (pca method)...\n"
     ]
    },
    {
     "name": "stderr",
     "output_type": "stream",
     "text": [
      "Dimensions: 100%|██████████| 8/8 [00:35<00:00,  4.46s/it]\n"
     ]
    }
   ],
   "source": [
    "classifiers = {\"KNN\": KNeighborsClassifier(n_neighbors=8, n_jobs=-1),\n",
    "            #    \"RFC\": RandomForestClassifier(random_state=42, n_jobs=-1),\n",
    "            #    \"LogReg\": LogisticRegression(solver='saga', random_state=42, n_jobs=-1)\n",
    "               }\n",
    "results_pca = evaluate_sklearn_classifiers(X_train, y_train, X_test, y_test, classifiers, nesting_list, dim_reduction_method='pca')"
   ]
  },
  {
   "cell_type": "code",
   "execution_count": 20,
   "id": "f0c48ab5",
   "metadata": {},
   "outputs": [
    {
     "name": "stdout",
     "output_type": "stream",
     "text": [
      "\n",
      "Evaluating KNN (ica method)...\n"
     ]
    },
    {
     "name": "stderr",
     "output_type": "stream",
     "text": [
      "Dimensions: 100%|██████████| 8/8 [04:18<00:00, 32.25s/it]\n"
     ]
    }
   ],
   "source": [
    "classifiers = {\"KNN\": KNeighborsClassifier(n_neighbors=8, n_jobs=-1),\n",
    "            #    \"RFC\": RandomForestClassifier(random_state=42, n_jobs=-1),\n",
    "            #    \"LogReg\": LogisticRegression(solver='saga', random_state=42, n_jobs=-1)\n",
    "               }\n",
    "results_ica = evaluate_sklearn_classifiers(X_train, y_train, X_test, y_test, classifiers, nesting_list, dim_reduction_method='ica')"
   ]
  },
  {
   "cell_type": "code",
   "execution_count": 21,
   "id": "9c09ac5c",
   "metadata": {},
   "outputs": [
    {
     "name": "stdout",
     "output_type": "stream",
     "text": [
      "<class 'numpy.ndarray'>\n"
     ]
    }
   ],
   "source": [
    "print(type(X_train))"
   ]
  },
  {
   "cell_type": "code",
   "execution_count": 22,
   "id": "f3515c00",
   "metadata": {},
   "outputs": [
    {
     "name": "stdout",
     "output_type": "stream",
     "text": [
      "\n",
      "Evaluating KNN (isomap method)...\n"
     ]
    },
    {
     "name": "stderr",
     "output_type": "stream",
     "text": [
      "Dimensions: 100%|██████████| 8/8 [1:13:31<00:00, 551.47s/it]\n"
     ]
    }
   ],
   "source": [
    "classifiers = {\"KNN\": KNeighborsClassifier(n_neighbors=8, n_jobs=-1),\n",
    "            #    \"RFC\": RandomForestClassifier(random_state=42, n_jobs=-1),\n",
    "            #    \"LogReg\": LogisticRegression(solver='saga', random_state=42, n_jobs=-1)\n",
    "               }\n",
    "results_isomap = evaluate_sklearn_classifiers(X_train, y_train, X_test, y_test, classifiers, nesting_list, dim_reduction_method='isomap')"
   ]
  },
  {
   "cell_type": "code",
   "execution_count": 23,
   "id": "3972cef0",
   "metadata": {},
   "outputs": [
    {
     "data": {
      "text/plain": [
       "{'KNN': {8: 0.3967428571428571,\n",
       "  16: 0.42454285714285717,\n",
       "  32: 0.4408,\n",
       "  64: 0.5125428571428572,\n",
       "  128: 0.6134285714285714,\n",
       "  256: 0.6277142857142857,\n",
       "  512: 0.6369142857142858,\n",
       "  1024: 0.6340857142857143}}"
      ]
     },
     "execution_count": 23,
     "metadata": {},
     "output_type": "execute_result"
    }
   ],
   "source": [
    "results_isomap"
   ]
  },
  {
   "cell_type": "code",
   "execution_count": null,
   "id": "884615fc",
   "metadata": {},
   "outputs": [
    {
     "data": {
      "image/png": "[encoded data removed]",
      "text/plain": [
       "<Figure size 1000x600 with 1 Axes>"
      ]
     },
     "metadata": {},
     "output_type": "display_data"
    }
   ],
   "source": [
    "import matplotlib.pyplot as plt\n",
    "\n",
    "array_of_dicts = [results_cutoff, results_pca, results_ica, results_isomap]\n",
    "method_names = ['MRL', 'PCA', 'ICA', 'Isomap']\n",
    "\n",
    "plt.figure(figsize=(10, 6))\n",
    "for idx, method_dict in enumerate(array_of_dicts):\n",
    "    cur_dict = method_dict['KNN']\n",
    "    dimensions = []\n",
    "    accuracies = []\n",
    "    for dim, accuracy in cur_dict.items():\n",
    "        dimensions.append(dim)\n",
    "        accuracies.append(accuracy)\n",
    "    sorted_pairs = sorted(zip(dimensions, accuracies))\n",
    "    x = [dim for dim, acc in sorted_pairs]\n",
    "    y = [acc for dim, acc in sorted_pairs]\n",
    "    plt.plot(x, y, 'o-', label=f\"{method_names[idx]}\")\n",
    "\n",
    "plt.title('KNN Classifier Performance')\n",
    "plt.xlabel('Embedding Dimension')\n",
    "plt.ylabel('Accuracy')\n",
    "plt.xscale('log')\n",
    "plt.xticks(x, labels=x)\n",
    "plt.legend()\n",
    "plt.grid(True)\n",
    "plt.show()"
   ]
  },
  {
   "cell_type": "markdown",
   "id": "ddc14d8a",
   "metadata": {},
   "source": [
    "Instrinsic dimensionality estimation"
   ]
  },
  {
   "cell_type": "code",
   "execution_count": 3,
   "id": "6bd0a6ba",
   "metadata": {},
   "outputs": [],
   "source": [
    "def load_embeddings(load_path):\n",
    "    \"\"\"Load embeddings from .npz file\"\"\"\n",
    "    data = np.load(load_path, allow_pickle=True)\n",
    "    \n",
    "    # Reconstruct dictionary with original dimension keys\n",
    "    embeddings = {\n",
    "        int(key.split('_')[1]): data[key]\n",
    "        for key in data.files\n",
    "        if key.startswith('dim_')\n",
    "    }\n",
    "    \n",
    "    return {\n",
    "        'embeddings': embeddings,\n",
    "        'labels': data['labels'],\n",
    "        'nesting_list': data['nesting_list'].tolist()\n",
    "    }"
   ]
  },
  {
   "cell_type": "code",
   "execution_count": 6,
   "id": "42c56b42",
   "metadata": {},
   "outputs": [],
   "source": [
    "import numpy as np\n",
    "from sklearn.preprocessing import StandardScaler\n",
    "\n",
    "emb_dict = load_embeddings('data/embeddings/embeddings.npz')\n",
    "\n",
    "val_emb = emb_dict['embeddings']\n",
    "val_labels = emb_dict['labels']\n",
    "nesting_list = emb_dict['nesting_list']"
   ]
  },
  {
   "cell_type": "code",
   "execution_count": 7,
   "id": "2358be27",
   "metadata": {},
   "outputs": [],
   "source": [
    "from sklearn.base import clone\n",
    "from tqdm import tqdm\n",
    "\n",
    "def estimate_intrinsic_dimensionality(X_dict, estimators):\n",
    "    results = {}\n",
    "    for est_name, est in tqdm(estimators.items(), desc=\"Estimators\"):\n",
    "        est_results = {}\n",
    "        print(f\"\\nProcessing {est_name}...\")\n",
    "        \n",
    "        for emb_dim, X in tqdm(X_dict.items(), desc=\"Datasets\", leave=False):\n",
    "            print(f\"Doing {emb_dim}...\")\n",
    "            try:\n",
    "                current_est = clone(est)\n",
    "                scaler = StandardScaler()\n",
    "                X_scaled = scaler.fit_transform(X)\n",
    "                current_est.fit(X_scaled)\n",
    "                \n",
    "                if hasattr(current_est, 'dimension_'):\n",
    "                    est_results[emb_dim] = current_est.dimension_\n",
    "                    print(f\" and results if {current_est.dimension_}\\n\")\n",
    "                else:\n",
    "                    est_results[emb_dim] = None\n",
    "                    print(f\"Warning: {est_name} has no 'dimension_' attribute for {emb_dim}\")\n",
    "                    \n",
    "            except Exception as e:\n",
    "                print(f\"Error processing {emb_dim} with {est_name}: {str(e)}\")\n",
    "                est_results[emb_dim] = None\n",
    "        \n",
    "        results[est_name] = est_results\n",
    "    \n",
    "    return results"
   ]
  },
  {
   "cell_type": "code",
   "execution_count": 8,
   "id": "37e7730c",
   "metadata": {},
   "outputs": [
    {
     "name": "stderr",
     "output_type": "stream",
     "text": [
      "Estimators:   0%|          | 0/1 [00:00<?, ?it/s]"
     ]
    },
    {
     "name": "stdout",
     "output_type": "stream",
     "text": [
      "\n",
      "Processing TwoNN...\n"
     ]
    },
    {
     "name": "stderr",
     "output_type": "stream",
     "text": []
    },
    {
     "name": "stdout",
     "output_type": "stream",
     "text": [
      "Doing 8...\n"
     ]
    },
    {
     "name": "stderr",
     "output_type": "stream",
     "text": []
    },
    {
     "name": "stdout",
     "output_type": "stream",
     "text": [
      " and results if 5.890420200600641\n",
      "\n",
      "Doing 16...\n"
     ]
    },
    {
     "name": "stderr",
     "output_type": "stream",
     "text": []
    },
    {
     "name": "stdout",
     "output_type": "stream",
     "text": [
      " and results if 7.965517217960202\n",
      "\n",
      "Doing 32...\n"
     ]
    },
    {
     "name": "stderr",
     "output_type": "stream",
     "text": []
    },
    {
     "name": "stdout",
     "output_type": "stream",
     "text": [
      " and results if 10.194759382635198\n",
      "\n",
      "Doing 64...\n"
     ]
    },
    {
     "name": "stderr",
     "output_type": "stream",
     "text": []
    },
    {
     "name": "stdout",
     "output_type": "stream",
     "text": [
      " and results if 12.520031578364714\n",
      "\n",
      "Doing 128...\n"
     ]
    },
    {
     "name": "stderr",
     "output_type": "stream",
     "text": []
    },
    {
     "name": "stdout",
     "output_type": "stream",
     "text": [
      " and results if 14.328217398765638\n",
      "\n",
      "Doing 256...\n"
     ]
    },
    {
     "name": "stderr",
     "output_type": "stream",
     "text": []
    },
    {
     "name": "stdout",
     "output_type": "stream",
     "text": [
      " and results if 16.247500077276502\n",
      "\n",
      "Doing 512...\n"
     ]
    },
    {
     "name": "stderr",
     "output_type": "stream",
     "text": []
    },
    {
     "name": "stdout",
     "output_type": "stream",
     "text": [
      " and results if 17.83989260015881\n",
      "\n",
      "Doing 1024...\n"
     ]
    },
    {
     "name": "stderr",
     "output_type": "stream",
     "text": []
    },
    {
     "name": "stdout",
     "output_type": "stream",
     "text": [
      " and results if 18.788977390607418\n",
      "\n",
      "Doing 2048...\n"
     ]
    },
    {
     "name": "stderr",
     "output_type": "stream",
     "text": [
      "Estimators: 100%|██████████| 1/1 [08:21<00:00, 501.62s/it]"
     ]
    },
    {
     "name": "stdout",
     "output_type": "stream",
     "text": [
      " and results if 19.129114400769712\n",
      "\n",
      "Estimated dimensions: {'TwoNN': {8: np.float64(5.890420200600641), 16: np.float64(7.965517217960202), 32: np.float64(10.194759382635198), 64: np.float64(12.520031578364714), 128: np.float64(14.328217398765638), 256: np.float64(16.247500077276502), 512: np.float64(17.83989260015881), 1024: np.float64(18.788977390607418), 2048: np.float64(19.129114400769712)}}\n"
     ]
    },
    {
     "name": "stderr",
     "output_type": "stream",
     "text": [
      "\n"
     ]
    }
   ],
   "source": [
    "from skdim.id import MLE, FisherS, DANCo, TwoNN\n",
    "\n",
    "estimators = {\n",
    "    # 'MLE': MLE(),\n",
    "    # 'FisherS': FisherS(),\n",
    "    # 'DANCo': DANCo(),\n",
    "    'TwoNN': TwoNN()\n",
    "}\n",
    "\n",
    "results = estimate_intrinsic_dimensionality(val_emb, estimators)\n",
    "print(\"Estimated dimensions:\", results)"
   ]
  },
  {
   "cell_type": "code",
   "execution_count": 9,
   "id": "43544ea3",
   "metadata": {},
   "outputs": [],
   "source": [
    "import pandas as pd\n",
    "import matplotlib.pyplot as plt\n",
    "\n",
    "def plot_dimension_comparison(results_dict, method_name, nesting_dims):\n",
    "    df = pd.DataFrame(results_dict).T\n",
    "    plt.figure(figsize=(10, 6))\n",
    "    for clf in df.index:\n",
    "        plt.plot(df.columns, df.loc[clf], marker='o', label=clf)\n",
    "    plt.title(f'Estimator --- {method_name}')\n",
    "    plt.xlabel('Embedding Dimension')\n",
    "    plt.ylabel('Intrinsic Dimensionality')\n",
    "    plt.xscale('log')\n",
    "    plt.xticks(nesting_dims, labels=nesting_dims)\n",
    "    plt.legend()\n",
    "    plt.grid(True)\n",
    "    plt.show()"
   ]
  },
  {
   "cell_type": "code",
   "execution_count": 10,
   "id": "6fef308e",
   "metadata": {},
   "outputs": [
    {
     "data": {
      "image/png": "[encoded data removed]",
      "text/plain": [
       "<Figure size 1000x600 with 1 Axes>"
      ]
     },
     "metadata": {},
     "output_type": "display_data"
    }
   ],
   "source": [
    "plot_dimension_comparison(results, 'TwoNN', nesting_list)"
   ]
  },
  {
   "cell_type": "code",
   "execution_count": 11,
   "id": "01736e9b",
   "metadata": {},
   "outputs": [
    {
     "name": "stderr",
     "output_type": "stream",
     "text": [
      "Estimators:   0%|          | 0/1 [00:00<?, ?it/s]"
     ]
    },
    {
     "name": "stdout",
     "output_type": "stream",
     "text": [
      "\n",
      "Processing FisherS...\n"
     ]
    },
    {
     "name": "stderr",
     "output_type": "stream",
     "text": []
    },
    {
     "name": "stdout",
     "output_type": "stream",
     "text": [
      "Doing 8...\n"
     ]
    },
    {
     "name": "stderr",
     "output_type": "stream",
     "text": []
    },
    {
     "name": "stdout",
     "output_type": "stream",
     "text": [
      " and results if 6.777476908010796\n",
      "\n",
      "Doing 16...\n"
     ]
    },
    {
     "name": "stderr",
     "output_type": "stream",
     "text": []
    },
    {
     "name": "stdout",
     "output_type": "stream",
     "text": [
      " and results if 8.491565896338203\n",
      "\n",
      "Doing 32...\n"
     ]
    },
    {
     "name": "stderr",
     "output_type": "stream",
     "text": []
    },
    {
     "name": "stdout",
     "output_type": "stream",
     "text": [
      " and results if 9.675991488986195\n",
      "\n",
      "Doing 64...\n"
     ]
    },
    {
     "name": "stderr",
     "output_type": "stream",
     "text": []
    },
    {
     "name": "stdout",
     "output_type": "stream",
     "text": [
      " and results if 8.621551876975156\n",
      "\n",
      "Doing 128...\n"
     ]
    },
    {
     "name": "stderr",
     "output_type": "stream",
     "text": []
    },
    {
     "name": "stdout",
     "output_type": "stream",
     "text": [
      " and results if 9.065781574242674\n",
      "\n",
      "Doing 256...\n"
     ]
    },
    {
     "name": "stderr",
     "output_type": "stream",
     "text": []
    },
    {
     "name": "stdout",
     "output_type": "stream",
     "text": [
      " and results if 9.3413877300498\n",
      "\n",
      "Doing 512...\n"
     ]
    },
    {
     "name": "stderr",
     "output_type": "stream",
     "text": []
    },
    {
     "name": "stdout",
     "output_type": "stream",
     "text": [
      " and results if 10.033543373878318\n",
      "\n",
      "Doing 1024...\n"
     ]
    },
    {
     "name": "stderr",
     "output_type": "stream",
     "text": []
    },
    {
     "name": "stdout",
     "output_type": "stream",
     "text": [
      " and results if 9.889202570129696\n",
      "\n",
      "Doing 2048...\n"
     ]
    },
    {
     "name": "stderr",
     "output_type": "stream",
     "text": [
      "Estimators: 100%|██████████| 1/1 [08:30<00:00, 510.97s/it]"
     ]
    },
    {
     "name": "stdout",
     "output_type": "stream",
     "text": [
      " and results if 9.71073764706448\n",
      "\n",
      "Estimated dimensions: {'FisherS': {8: np.float64(6.777476908010796), 16: np.float64(8.491565896338203), 32: np.float64(9.675991488986195), 64: np.float64(8.621551876975156), 128: np.float64(9.065781574242674), 256: np.float64(9.3413877300498), 512: np.float64(10.033543373878318), 1024: np.float64(9.889202570129696), 2048: np.float64(9.71073764706448)}}\n"
     ]
    },
    {
     "name": "stderr",
     "output_type": "stream",
     "text": [
      "\n"
     ]
    }
   ],
   "source": [
    "estimators = {\n",
    "    # 'MLE': MLE(),\n",
    "    'FisherS': FisherS(),\n",
    "    # 'DANCo': DANCo(),\n",
    "    # 'TwoNN': TwoNN()\n",
    "}\n",
    "\n",
    "results = estimate_intrinsic_dimensionality(val_emb, estimators)\n",
    "print(\"Estimated dimensions:\", results)"
   ]
  },
  {
   "cell_type": "code",
   "execution_count": 12,
   "id": "d02be9e6",
   "metadata": {},
   "outputs": [
    {
     "data": {
      "image/png": "[encoded data removed]",
      "text/plain": [
       "<Figure size 1000x600 with 1 Axes>"
      ]
     },
     "metadata": {},
     "output_type": "display_data"
    }
   ],
   "source": [
    "plot_dimension_comparison(results, 'FisherS', nesting_list)"
   ]
  }
 ],
 "metadata": {
  "kernelspec": {
   "display_name": "py10",
   "language": "python",
   "name": "python3"
  },
  "language_info": {
   "codemirror_mode": {
    "name": "ipython",
    "version": 3
   },
   "file_extension": ".py",
   "mimetype": "text/x-python",
   "name": "python",
   "nbconvert_exporter": "python",
   "pygments_lexer": "ipython3",
   "version": "3.10.16"
  }
 },
 "nbformat": 4,
 "nbformat_minor": 5
}
